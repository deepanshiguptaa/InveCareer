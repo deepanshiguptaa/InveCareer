{
 "cells": [
  {
   "cell_type": "markdown",
   "id": "13c92c35-2acd-4c25-b4bc-5fa27c7c1e81",
   "metadata": {},
   "source": [
    "**RETAIL STORE ANALYSIS**\n",
    "\n"
   ]
  },
  {
   "cell_type": "markdown",
   "id": "9d6d379d-416a-4a8d-9ce1-c4a52cfbbdef",
   "metadata": {},
   "source": [
    "PROBLEM STATEMENT:\n",
    "1. To analyse the sales of retail store.\n",
    "2. Predict the sales.\n",
    "3. Give possible suggestions for the store owner."
   ]
  },
  {
   "cell_type": "markdown",
   "id": "07037a36-0cfa-4878-84d1-2237549e30a0",
   "metadata": {},
   "source": [
    "Importing Libraries"
   ]
  },
  {
   "cell_type": "code",
   "execution_count": 1,
   "id": "4011390a-18a1-49a2-890c-def1bf309c6b",
   "metadata": {},
   "outputs": [],
   "source": [
    "import pandas as pd\n",
    "import numpy as np\n",
    "import matplotlib.pyplot as plt\n",
    "import seaborn as sns"
   ]
  },
  {
   "cell_type": "markdown",
   "id": "18c9b245-d1aa-4bbf-bdeb-dc86e6c4745a",
   "metadata": {},
   "source": [
    "Loading Dataset"
   ]
  },
  {
   "cell_type": "code",
   "execution_count": 2,
   "id": "b48a2b1d-93a7-4d0c-a8ea-4a3ff0c2f1a3",
   "metadata": {},
   "outputs": [
    {
     "data": {
      "text/html": [
       "<div>\n",
       "<style scoped>\n",
       "    .dataframe tbody tr th:only-of-type {\n",
       "        vertical-align: middle;\n",
       "    }\n",
       "\n",
       "    .dataframe tbody tr th {\n",
       "        vertical-align: top;\n",
       "    }\n",
       "\n",
       "    .dataframe thead th {\n",
       "        text-align: right;\n",
       "    }\n",
       "</style>\n",
       "<table border=\"1\" class=\"dataframe\">\n",
       "  <thead>\n",
       "    <tr style=\"text-align: right;\">\n",
       "      <th></th>\n",
       "      <th>Unnamed: 0</th>\n",
       "      <th>Date</th>\n",
       "      <th>Customer_ID</th>\n",
       "      <th>Transaction_ID</th>\n",
       "      <th>SKU_Category</th>\n",
       "      <th>SKU</th>\n",
       "      <th>Quantity</th>\n",
       "      <th>Sales_Amount</th>\n",
       "    </tr>\n",
       "  </thead>\n",
       "  <tbody>\n",
       "    <tr>\n",
       "      <th>0</th>\n",
       "      <td>1</td>\n",
       "      <td>02/01/2016</td>\n",
       "      <td>2547</td>\n",
       "      <td>1</td>\n",
       "      <td>X52</td>\n",
       "      <td>0EM7L</td>\n",
       "      <td>1.0</td>\n",
       "      <td>3.13</td>\n",
       "    </tr>\n",
       "    <tr>\n",
       "      <th>1</th>\n",
       "      <td>2</td>\n",
       "      <td>02/01/2016</td>\n",
       "      <td>822</td>\n",
       "      <td>2</td>\n",
       "      <td>2ML</td>\n",
       "      <td>68BRQ</td>\n",
       "      <td>1.0</td>\n",
       "      <td>5.46</td>\n",
       "    </tr>\n",
       "    <tr>\n",
       "      <th>2</th>\n",
       "      <td>3</td>\n",
       "      <td>02/01/2016</td>\n",
       "      <td>3686</td>\n",
       "      <td>3</td>\n",
       "      <td>0H2</td>\n",
       "      <td>CZUZX</td>\n",
       "      <td>1.0</td>\n",
       "      <td>6.35</td>\n",
       "    </tr>\n",
       "    <tr>\n",
       "      <th>3</th>\n",
       "      <td>4</td>\n",
       "      <td>02/01/2016</td>\n",
       "      <td>3719</td>\n",
       "      <td>4</td>\n",
       "      <td>0H2</td>\n",
       "      <td>549KK</td>\n",
       "      <td>1.0</td>\n",
       "      <td>5.59</td>\n",
       "    </tr>\n",
       "    <tr>\n",
       "      <th>4</th>\n",
       "      <td>5</td>\n",
       "      <td>02/01/2016</td>\n",
       "      <td>9200</td>\n",
       "      <td>5</td>\n",
       "      <td>0H2</td>\n",
       "      <td>K8EHH</td>\n",
       "      <td>1.0</td>\n",
       "      <td>6.88</td>\n",
       "    </tr>\n",
       "  </tbody>\n",
       "</table>\n",
       "</div>"
      ],
      "text/plain": [
       "   Unnamed: 0        Date  Customer_ID  Transaction_ID SKU_Category    SKU  \\\n",
       "0           1  02/01/2016         2547               1          X52  0EM7L   \n",
       "1           2  02/01/2016          822               2          2ML  68BRQ   \n",
       "2           3  02/01/2016         3686               3          0H2  CZUZX   \n",
       "3           4  02/01/2016         3719               4          0H2  549KK   \n",
       "4           5  02/01/2016         9200               5          0H2  K8EHH   \n",
       "\n",
       "   Quantity  Sales_Amount  \n",
       "0       1.0          3.13  \n",
       "1       1.0          5.46  \n",
       "2       1.0          6.35  \n",
       "3       1.0          5.59  \n",
       "4       1.0          6.88  "
      ]
     },
     "execution_count": 2,
     "metadata": {},
     "output_type": "execute_result"
    }
   ],
   "source": [
    "data = pd.read_csv(r\"C:\\Users\\admin\\Downloads\\scanner_data.csv\\scanner_data.csv\")\n",
    "data.head()\n"
   ]
  },
  {
   "cell_type": "code",
   "execution_count": 3,
   "id": "909d2bd9-ab39-48ff-a10d-b9cc8245932b",
   "metadata": {},
   "outputs": [
    {
     "data": {
      "text/plain": [
       "Unnamed: 0          int64\n",
       "Date               object\n",
       "Customer_ID         int64\n",
       "Transaction_ID      int64\n",
       "SKU_Category       object\n",
       "SKU                object\n",
       "Quantity          float64\n",
       "Sales_Amount      float64\n",
       "dtype: object"
      ]
     },
     "execution_count": 3,
     "metadata": {},
     "output_type": "execute_result"
    }
   ],
   "source": [
    "data.dtypes"
   ]
  },
  {
   "cell_type": "code",
   "execution_count": 4,
   "id": "b9ae41c4-eb64-4340-b590-807f65aaec67",
   "metadata": {},
   "outputs": [
    {
     "data": {
      "text/html": [
       "<div>\n",
       "<style scoped>\n",
       "    .dataframe tbody tr th:only-of-type {\n",
       "        vertical-align: middle;\n",
       "    }\n",
       "\n",
       "    .dataframe tbody tr th {\n",
       "        vertical-align: top;\n",
       "    }\n",
       "\n",
       "    .dataframe thead th {\n",
       "        text-align: right;\n",
       "    }\n",
       "</style>\n",
       "<table border=\"1\" class=\"dataframe\">\n",
       "  <thead>\n",
       "    <tr style=\"text-align: right;\">\n",
       "      <th></th>\n",
       "      <th>count</th>\n",
       "      <th>unique</th>\n",
       "      <th>top</th>\n",
       "      <th>freq</th>\n",
       "      <th>mean</th>\n",
       "      <th>std</th>\n",
       "      <th>min</th>\n",
       "      <th>25%</th>\n",
       "      <th>50%</th>\n",
       "      <th>75%</th>\n",
       "      <th>max</th>\n",
       "    </tr>\n",
       "  </thead>\n",
       "  <tbody>\n",
       "    <tr>\n",
       "      <th>Unnamed: 0</th>\n",
       "      <td>131706.0</td>\n",
       "      <td>NaN</td>\n",
       "      <td>NaN</td>\n",
       "      <td>NaN</td>\n",
       "      <td>65853.5</td>\n",
       "      <td>38020.391614</td>\n",
       "      <td>1.0</td>\n",
       "      <td>32927.25</td>\n",
       "      <td>65853.5</td>\n",
       "      <td>98779.75</td>\n",
       "      <td>131706.0</td>\n",
       "    </tr>\n",
       "    <tr>\n",
       "      <th>Date</th>\n",
       "      <td>131706</td>\n",
       "      <td>363</td>\n",
       "      <td>23/09/2016</td>\n",
       "      <td>638</td>\n",
       "      <td>NaN</td>\n",
       "      <td>NaN</td>\n",
       "      <td>NaN</td>\n",
       "      <td>NaN</td>\n",
       "      <td>NaN</td>\n",
       "      <td>NaN</td>\n",
       "      <td>NaN</td>\n",
       "    </tr>\n",
       "    <tr>\n",
       "      <th>Customer_ID</th>\n",
       "      <td>131706.0</td>\n",
       "      <td>NaN</td>\n",
       "      <td>NaN</td>\n",
       "      <td>NaN</td>\n",
       "      <td>12386.450367</td>\n",
       "      <td>6086.447552</td>\n",
       "      <td>1.0</td>\n",
       "      <td>7349.0</td>\n",
       "      <td>13496.0</td>\n",
       "      <td>17306.0</td>\n",
       "      <td>22625.0</td>\n",
       "    </tr>\n",
       "    <tr>\n",
       "      <th>Transaction_ID</th>\n",
       "      <td>131706.0</td>\n",
       "      <td>NaN</td>\n",
       "      <td>NaN</td>\n",
       "      <td>NaN</td>\n",
       "      <td>32389.604187</td>\n",
       "      <td>18709.901238</td>\n",
       "      <td>1.0</td>\n",
       "      <td>16134.0</td>\n",
       "      <td>32620.0</td>\n",
       "      <td>48548.0</td>\n",
       "      <td>64682.0</td>\n",
       "    </tr>\n",
       "    <tr>\n",
       "      <th>SKU_Category</th>\n",
       "      <td>131706</td>\n",
       "      <td>187</td>\n",
       "      <td>N8U</td>\n",
       "      <td>10913</td>\n",
       "      <td>NaN</td>\n",
       "      <td>NaN</td>\n",
       "      <td>NaN</td>\n",
       "      <td>NaN</td>\n",
       "      <td>NaN</td>\n",
       "      <td>NaN</td>\n",
       "      <td>NaN</td>\n",
       "    </tr>\n",
       "    <tr>\n",
       "      <th>SKU</th>\n",
       "      <td>131706</td>\n",
       "      <td>5242</td>\n",
       "      <td>UNJKW</td>\n",
       "      <td>2007</td>\n",
       "      <td>NaN</td>\n",
       "      <td>NaN</td>\n",
       "      <td>NaN</td>\n",
       "      <td>NaN</td>\n",
       "      <td>NaN</td>\n",
       "      <td>NaN</td>\n",
       "      <td>NaN</td>\n",
       "    </tr>\n",
       "    <tr>\n",
       "      <th>Quantity</th>\n",
       "      <td>131706.0</td>\n",
       "      <td>NaN</td>\n",
       "      <td>NaN</td>\n",
       "      <td>NaN</td>\n",
       "      <td>1.485311</td>\n",
       "      <td>3.872667</td>\n",
       "      <td>0.01</td>\n",
       "      <td>1.0</td>\n",
       "      <td>1.0</td>\n",
       "      <td>1.0</td>\n",
       "      <td>400.0</td>\n",
       "    </tr>\n",
       "    <tr>\n",
       "      <th>Sales_Amount</th>\n",
       "      <td>131706.0</td>\n",
       "      <td>NaN</td>\n",
       "      <td>NaN</td>\n",
       "      <td>NaN</td>\n",
       "      <td>11.981524</td>\n",
       "      <td>19.359699</td>\n",
       "      <td>0.02</td>\n",
       "      <td>4.23</td>\n",
       "      <td>6.92</td>\n",
       "      <td>12.33</td>\n",
       "      <td>707.73</td>\n",
       "    </tr>\n",
       "  </tbody>\n",
       "</table>\n",
       "</div>"
      ],
      "text/plain": [
       "                   count unique         top   freq          mean  \\\n",
       "Unnamed: 0      131706.0    NaN         NaN    NaN       65853.5   \n",
       "Date              131706    363  23/09/2016    638           NaN   \n",
       "Customer_ID     131706.0    NaN         NaN    NaN  12386.450367   \n",
       "Transaction_ID  131706.0    NaN         NaN    NaN  32389.604187   \n",
       "SKU_Category      131706    187         N8U  10913           NaN   \n",
       "SKU               131706   5242       UNJKW   2007           NaN   \n",
       "Quantity        131706.0    NaN         NaN    NaN      1.485311   \n",
       "Sales_Amount    131706.0    NaN         NaN    NaN     11.981524   \n",
       "\n",
       "                         std   min       25%      50%       75%       max  \n",
       "Unnamed: 0      38020.391614   1.0  32927.25  65853.5  98779.75  131706.0  \n",
       "Date                     NaN   NaN       NaN      NaN       NaN       NaN  \n",
       "Customer_ID      6086.447552   1.0    7349.0  13496.0   17306.0   22625.0  \n",
       "Transaction_ID  18709.901238   1.0   16134.0  32620.0   48548.0   64682.0  \n",
       "SKU_Category             NaN   NaN       NaN      NaN       NaN       NaN  \n",
       "SKU                      NaN   NaN       NaN      NaN       NaN       NaN  \n",
       "Quantity            3.872667  0.01       1.0      1.0       1.0     400.0  \n",
       "Sales_Amount       19.359699  0.02      4.23     6.92     12.33    707.73  "
      ]
     },
     "execution_count": 4,
     "metadata": {},
     "output_type": "execute_result"
    }
   ],
   "source": [
    "data.describe(include='all').T"
   ]
  },
  {
   "cell_type": "markdown",
   "id": "447b9de7-81eb-450c-a430-fc1bde55f9b1",
   "metadata": {},
   "source": [
    "Dropping unique identifiers"
   ]
  },
  {
   "cell_type": "code",
   "execution_count": 5,
   "id": "6f3e6f08-2a93-4983-8128-0447ece8c18a",
   "metadata": {},
   "outputs": [
    {
     "data": {
      "text/html": [
       "<div>\n",
       "<style scoped>\n",
       "    .dataframe tbody tr th:only-of-type {\n",
       "        vertical-align: middle;\n",
       "    }\n",
       "\n",
       "    .dataframe tbody tr th {\n",
       "        vertical-align: top;\n",
       "    }\n",
       "\n",
       "    .dataframe thead th {\n",
       "        text-align: right;\n",
       "    }\n",
       "</style>\n",
       "<table border=\"1\" class=\"dataframe\">\n",
       "  <thead>\n",
       "    <tr style=\"text-align: right;\">\n",
       "      <th></th>\n",
       "      <th>Date</th>\n",
       "      <th>Customer_ID</th>\n",
       "      <th>Transaction_ID</th>\n",
       "      <th>SKU_Category</th>\n",
       "      <th>SKU</th>\n",
       "      <th>Quantity</th>\n",
       "      <th>Sales_Amount</th>\n",
       "    </tr>\n",
       "  </thead>\n",
       "  <tbody>\n",
       "    <tr>\n",
       "      <th>0</th>\n",
       "      <td>02/01/2016</td>\n",
       "      <td>2547</td>\n",
       "      <td>1</td>\n",
       "      <td>X52</td>\n",
       "      <td>0EM7L</td>\n",
       "      <td>1.0</td>\n",
       "      <td>3.13</td>\n",
       "    </tr>\n",
       "    <tr>\n",
       "      <th>1</th>\n",
       "      <td>02/01/2016</td>\n",
       "      <td>822</td>\n",
       "      <td>2</td>\n",
       "      <td>2ML</td>\n",
       "      <td>68BRQ</td>\n",
       "      <td>1.0</td>\n",
       "      <td>5.46</td>\n",
       "    </tr>\n",
       "    <tr>\n",
       "      <th>2</th>\n",
       "      <td>02/01/2016</td>\n",
       "      <td>3686</td>\n",
       "      <td>3</td>\n",
       "      <td>0H2</td>\n",
       "      <td>CZUZX</td>\n",
       "      <td>1.0</td>\n",
       "      <td>6.35</td>\n",
       "    </tr>\n",
       "    <tr>\n",
       "      <th>3</th>\n",
       "      <td>02/01/2016</td>\n",
       "      <td>3719</td>\n",
       "      <td>4</td>\n",
       "      <td>0H2</td>\n",
       "      <td>549KK</td>\n",
       "      <td>1.0</td>\n",
       "      <td>5.59</td>\n",
       "    </tr>\n",
       "    <tr>\n",
       "      <th>4</th>\n",
       "      <td>02/01/2016</td>\n",
       "      <td>9200</td>\n",
       "      <td>5</td>\n",
       "      <td>0H2</td>\n",
       "      <td>K8EHH</td>\n",
       "      <td>1.0</td>\n",
       "      <td>6.88</td>\n",
       "    </tr>\n",
       "  </tbody>\n",
       "</table>\n",
       "</div>"
      ],
      "text/plain": [
       "         Date  Customer_ID  Transaction_ID SKU_Category    SKU  Quantity  \\\n",
       "0  02/01/2016         2547               1          X52  0EM7L       1.0   \n",
       "1  02/01/2016          822               2          2ML  68BRQ       1.0   \n",
       "2  02/01/2016         3686               3          0H2  CZUZX       1.0   \n",
       "3  02/01/2016         3719               4          0H2  549KK       1.0   \n",
       "4  02/01/2016         9200               5          0H2  K8EHH       1.0   \n",
       "\n",
       "   Sales_Amount  \n",
       "0          3.13  \n",
       "1          5.46  \n",
       "2          6.35  \n",
       "3          5.59  \n",
       "4          6.88  "
      ]
     },
     "execution_count": 5,
     "metadata": {},
     "output_type": "execute_result"
    }
   ],
   "source": [
    "df = data.drop(data.columns[0],axis=1)\n",
    "df.head()"
   ]
  },
  {
   "cell_type": "markdown",
   "id": "d454f46f-3dd7-4924-82ea-ffa7d3ec3ef6",
   "metadata": {},
   "source": [
    "Convert to categories"
   ]
  },
  {
   "cell_type": "code",
   "execution_count": 6,
   "id": "6dad3867-996a-4619-80f6-a3a9c0d78a02",
   "metadata": {},
   "outputs": [
    {
     "data": {
      "text/plain": [
       "Date                object\n",
       "Customer_ID          int64\n",
       "Transaction_ID       int64\n",
       "SKU_Category      category\n",
       "SKU               category\n",
       "Quantity           float64\n",
       "Sales_Amount       float64\n",
       "dtype: object"
      ]
     },
     "execution_count": 6,
     "metadata": {},
     "output_type": "execute_result"
    }
   ],
   "source": [
    "for col in ['SKU_Category','SKU']:\n",
    "    df[col] = df[col].astype('category')\n",
    "\n",
    "df.dtypes\n"
   ]
  },
  {
   "cell_type": "markdown",
   "id": "09a2e9a9-3e73-4fd9-9327-837e533d32c9",
   "metadata": {},
   "source": [
    "Convert Date to date time feature"
   ]
  },
  {
   "cell_type": "code",
   "execution_count": 7,
   "id": "80812b53-9dce-4288-9709-faefb0bcfd84",
   "metadata": {},
   "outputs": [
    {
     "data": {
      "text/html": [
       "<div>\n",
       "<style scoped>\n",
       "    .dataframe tbody tr th:only-of-type {\n",
       "        vertical-align: middle;\n",
       "    }\n",
       "\n",
       "    .dataframe tbody tr th {\n",
       "        vertical-align: top;\n",
       "    }\n",
       "\n",
       "    .dataframe thead th {\n",
       "        text-align: right;\n",
       "    }\n",
       "</style>\n",
       "<table border=\"1\" class=\"dataframe\">\n",
       "  <thead>\n",
       "    <tr style=\"text-align: right;\">\n",
       "      <th></th>\n",
       "      <th>Date</th>\n",
       "      <th>Customer_ID</th>\n",
       "      <th>Transaction_ID</th>\n",
       "      <th>SKU_Category</th>\n",
       "      <th>SKU</th>\n",
       "      <th>Quantity</th>\n",
       "      <th>Sales_Amount</th>\n",
       "    </tr>\n",
       "  </thead>\n",
       "  <tbody>\n",
       "    <tr>\n",
       "      <th>0</th>\n",
       "      <td>2016-01-02</td>\n",
       "      <td>2547</td>\n",
       "      <td>1</td>\n",
       "      <td>X52</td>\n",
       "      <td>0EM7L</td>\n",
       "      <td>1.0</td>\n",
       "      <td>3.13</td>\n",
       "    </tr>\n",
       "    <tr>\n",
       "      <th>1</th>\n",
       "      <td>2016-01-02</td>\n",
       "      <td>822</td>\n",
       "      <td>2</td>\n",
       "      <td>2ML</td>\n",
       "      <td>68BRQ</td>\n",
       "      <td>1.0</td>\n",
       "      <td>5.46</td>\n",
       "    </tr>\n",
       "    <tr>\n",
       "      <th>2</th>\n",
       "      <td>2016-01-02</td>\n",
       "      <td>3686</td>\n",
       "      <td>3</td>\n",
       "      <td>0H2</td>\n",
       "      <td>CZUZX</td>\n",
       "      <td>1.0</td>\n",
       "      <td>6.35</td>\n",
       "    </tr>\n",
       "    <tr>\n",
       "      <th>3</th>\n",
       "      <td>2016-01-02</td>\n",
       "      <td>3719</td>\n",
       "      <td>4</td>\n",
       "      <td>0H2</td>\n",
       "      <td>549KK</td>\n",
       "      <td>1.0</td>\n",
       "      <td>5.59</td>\n",
       "    </tr>\n",
       "    <tr>\n",
       "      <th>4</th>\n",
       "      <td>2016-01-02</td>\n",
       "      <td>9200</td>\n",
       "      <td>5</td>\n",
       "      <td>0H2</td>\n",
       "      <td>K8EHH</td>\n",
       "      <td>1.0</td>\n",
       "      <td>6.88</td>\n",
       "    </tr>\n",
       "  </tbody>\n",
       "</table>\n",
       "</div>"
      ],
      "text/plain": [
       "        Date  Customer_ID  Transaction_ID SKU_Category    SKU  Quantity  \\\n",
       "0 2016-01-02         2547               1          X52  0EM7L       1.0   \n",
       "1 2016-01-02          822               2          2ML  68BRQ       1.0   \n",
       "2 2016-01-02         3686               3          0H2  CZUZX       1.0   \n",
       "3 2016-01-02         3719               4          0H2  549KK       1.0   \n",
       "4 2016-01-02         9200               5          0H2  K8EHH       1.0   \n",
       "\n",
       "   Sales_Amount  \n",
       "0          3.13  \n",
       "1          5.46  \n",
       "2          6.35  \n",
       "3          5.59  \n",
       "4          6.88  "
      ]
     },
     "execution_count": 7,
     "metadata": {},
     "output_type": "execute_result"
    }
   ],
   "source": [
    "df.Date = pd.to_datetime(df.Date,format='%d/%m/%Y')\n",
    "df.head()"
   ]
  },
  {
   "cell_type": "code",
   "execution_count": 8,
   "id": "41c59e5c-e97b-4ceb-bc62-3008fea16669",
   "metadata": {},
   "outputs": [
    {
     "data": {
      "text/html": [
       "<div>\n",
       "<style scoped>\n",
       "    .dataframe tbody tr th:only-of-type {\n",
       "        vertical-align: middle;\n",
       "    }\n",
       "\n",
       "    .dataframe tbody tr th {\n",
       "        vertical-align: top;\n",
       "    }\n",
       "\n",
       "    .dataframe thead th {\n",
       "        text-align: right;\n",
       "    }\n",
       "</style>\n",
       "<table border=\"1\" class=\"dataframe\">\n",
       "  <thead>\n",
       "    <tr style=\"text-align: right;\">\n",
       "      <th></th>\n",
       "      <th>Date</th>\n",
       "      <th>Customer_ID</th>\n",
       "      <th>Transaction_ID</th>\n",
       "      <th>SKU_Category</th>\n",
       "      <th>SKU</th>\n",
       "      <th>Quantity</th>\n",
       "      <th>Sales_Amount</th>\n",
       "      <th>Month</th>\n",
       "      <th>Day</th>\n",
       "      <th>Day_Of_Week</th>\n",
       "      <th>Day_Name</th>\n",
       "      <th>Month_Name</th>\n",
       "    </tr>\n",
       "  </thead>\n",
       "  <tbody>\n",
       "    <tr>\n",
       "      <th>0</th>\n",
       "      <td>2016-01-02</td>\n",
       "      <td>2547</td>\n",
       "      <td>1</td>\n",
       "      <td>X52</td>\n",
       "      <td>0EM7L</td>\n",
       "      <td>1.0</td>\n",
       "      <td>3.13</td>\n",
       "      <td>1</td>\n",
       "      <td>2</td>\n",
       "      <td>5</td>\n",
       "      <td>Saturday</td>\n",
       "      <td>January</td>\n",
       "    </tr>\n",
       "    <tr>\n",
       "      <th>1</th>\n",
       "      <td>2016-01-02</td>\n",
       "      <td>822</td>\n",
       "      <td>2</td>\n",
       "      <td>2ML</td>\n",
       "      <td>68BRQ</td>\n",
       "      <td>1.0</td>\n",
       "      <td>5.46</td>\n",
       "      <td>1</td>\n",
       "      <td>2</td>\n",
       "      <td>5</td>\n",
       "      <td>Saturday</td>\n",
       "      <td>January</td>\n",
       "    </tr>\n",
       "    <tr>\n",
       "      <th>2</th>\n",
       "      <td>2016-01-02</td>\n",
       "      <td>3686</td>\n",
       "      <td>3</td>\n",
       "      <td>0H2</td>\n",
       "      <td>CZUZX</td>\n",
       "      <td>1.0</td>\n",
       "      <td>6.35</td>\n",
       "      <td>1</td>\n",
       "      <td>2</td>\n",
       "      <td>5</td>\n",
       "      <td>Saturday</td>\n",
       "      <td>January</td>\n",
       "    </tr>\n",
       "    <tr>\n",
       "      <th>3</th>\n",
       "      <td>2016-01-02</td>\n",
       "      <td>3719</td>\n",
       "      <td>4</td>\n",
       "      <td>0H2</td>\n",
       "      <td>549KK</td>\n",
       "      <td>1.0</td>\n",
       "      <td>5.59</td>\n",
       "      <td>1</td>\n",
       "      <td>2</td>\n",
       "      <td>5</td>\n",
       "      <td>Saturday</td>\n",
       "      <td>January</td>\n",
       "    </tr>\n",
       "    <tr>\n",
       "      <th>4</th>\n",
       "      <td>2016-01-02</td>\n",
       "      <td>9200</td>\n",
       "      <td>5</td>\n",
       "      <td>0H2</td>\n",
       "      <td>K8EHH</td>\n",
       "      <td>1.0</td>\n",
       "      <td>6.88</td>\n",
       "      <td>1</td>\n",
       "      <td>2</td>\n",
       "      <td>5</td>\n",
       "      <td>Saturday</td>\n",
       "      <td>January</td>\n",
       "    </tr>\n",
       "  </tbody>\n",
       "</table>\n",
       "</div>"
      ],
      "text/plain": [
       "        Date  Customer_ID  Transaction_ID SKU_Category    SKU  Quantity  \\\n",
       "0 2016-01-02         2547               1          X52  0EM7L       1.0   \n",
       "1 2016-01-02          822               2          2ML  68BRQ       1.0   \n",
       "2 2016-01-02         3686               3          0H2  CZUZX       1.0   \n",
       "3 2016-01-02         3719               4          0H2  549KK       1.0   \n",
       "4 2016-01-02         9200               5          0H2  K8EHH       1.0   \n",
       "\n",
       "   Sales_Amount  Month  Day  Day_Of_Week  Day_Name Month_Name  \n",
       "0          3.13      1    2            5  Saturday    January  \n",
       "1          5.46      1    2            5  Saturday    January  \n",
       "2          6.35      1    2            5  Saturday    January  \n",
       "3          5.59      1    2            5  Saturday    January  \n",
       "4          6.88      1    2            5  Saturday    January  "
      ]
     },
     "execution_count": 8,
     "metadata": {},
     "output_type": "execute_result"
    }
   ],
   "source": [
    "df[\"Month\"] = df.Date.dt.month\n",
    "df[\"Day\"] = df.Date.dt.day\n",
    "df[\"Day_Of_Week\"] = df.Date.dt.day_of_week\n",
    "df[\"Day_Name\"] = df.Date.dt.day_name().astype('category')\n",
    "days = df[['Day_Name','Day_Of_Week']].drop_duplicates().reset_index()['Day_Name']\n",
    "df[\"Day_Name\"] = df[\"Day_Name\"].cat.reorder_categories(days.to_list())\n",
    "df[\"Month_Name\"] = df.Date.dt.month_name().astype('category')\n",
    "months = df[['Month_Name','Month']].drop_duplicates().reset_index()['Month_Name']\n",
    "df[\"Month_Name\"] = df[\"Month_Name\"].cat.reorder_categories(months.to_list())\n",
    "\n",
    "df.head()"
   ]
  },
  {
   "cell_type": "code",
   "execution_count": 9,
   "id": "d39d8b7f-82b0-48d4-8202-598b173f2d2f",
   "metadata": {},
   "outputs": [
    {
     "data": {
      "text/html": [
       "<div>\n",
       "<style scoped>\n",
       "    .dataframe tbody tr th:only-of-type {\n",
       "        vertical-align: middle;\n",
       "    }\n",
       "\n",
       "    .dataframe tbody tr th {\n",
       "        vertical-align: top;\n",
       "    }\n",
       "\n",
       "    .dataframe thead th {\n",
       "        text-align: right;\n",
       "    }\n",
       "</style>\n",
       "<table border=\"1\" class=\"dataframe\">\n",
       "  <thead>\n",
       "    <tr style=\"text-align: right;\">\n",
       "      <th></th>\n",
       "      <th>count</th>\n",
       "      <th>unique</th>\n",
       "      <th>top</th>\n",
       "      <th>freq</th>\n",
       "      <th>mean</th>\n",
       "      <th>min</th>\n",
       "      <th>25%</th>\n",
       "      <th>50%</th>\n",
       "      <th>75%</th>\n",
       "      <th>max</th>\n",
       "      <th>std</th>\n",
       "    </tr>\n",
       "  </thead>\n",
       "  <tbody>\n",
       "    <tr>\n",
       "      <th>Date</th>\n",
       "      <td>131706</td>\n",
       "      <td>NaN</td>\n",
       "      <td>NaN</td>\n",
       "      <td>NaN</td>\n",
       "      <td>2016-07-04 18:00:03.608036096</td>\n",
       "      <td>2016-01-02 00:00:00</td>\n",
       "      <td>2016-04-05 00:00:00</td>\n",
       "      <td>2016-07-02 00:00:00</td>\n",
       "      <td>2016-10-07 00:00:00</td>\n",
       "      <td>2016-12-31 00:00:00</td>\n",
       "      <td>NaN</td>\n",
       "    </tr>\n",
       "    <tr>\n",
       "      <th>Customer_ID</th>\n",
       "      <td>131706.0</td>\n",
       "      <td>NaN</td>\n",
       "      <td>NaN</td>\n",
       "      <td>NaN</td>\n",
       "      <td>12386.450367</td>\n",
       "      <td>1.0</td>\n",
       "      <td>7349.0</td>\n",
       "      <td>13496.0</td>\n",
       "      <td>17306.0</td>\n",
       "      <td>22625.0</td>\n",
       "      <td>6086.447552</td>\n",
       "    </tr>\n",
       "    <tr>\n",
       "      <th>Transaction_ID</th>\n",
       "      <td>131706.0</td>\n",
       "      <td>NaN</td>\n",
       "      <td>NaN</td>\n",
       "      <td>NaN</td>\n",
       "      <td>32389.604187</td>\n",
       "      <td>1.0</td>\n",
       "      <td>16134.0</td>\n",
       "      <td>32620.0</td>\n",
       "      <td>48548.0</td>\n",
       "      <td>64682.0</td>\n",
       "      <td>18709.901238</td>\n",
       "    </tr>\n",
       "    <tr>\n",
       "      <th>SKU_Category</th>\n",
       "      <td>131706</td>\n",
       "      <td>187</td>\n",
       "      <td>N8U</td>\n",
       "      <td>10913</td>\n",
       "      <td>NaN</td>\n",
       "      <td>NaN</td>\n",
       "      <td>NaN</td>\n",
       "      <td>NaN</td>\n",
       "      <td>NaN</td>\n",
       "      <td>NaN</td>\n",
       "      <td>NaN</td>\n",
       "    </tr>\n",
       "    <tr>\n",
       "      <th>SKU</th>\n",
       "      <td>131706</td>\n",
       "      <td>5242</td>\n",
       "      <td>UNJKW</td>\n",
       "      <td>2007</td>\n",
       "      <td>NaN</td>\n",
       "      <td>NaN</td>\n",
       "      <td>NaN</td>\n",
       "      <td>NaN</td>\n",
       "      <td>NaN</td>\n",
       "      <td>NaN</td>\n",
       "      <td>NaN</td>\n",
       "    </tr>\n",
       "    <tr>\n",
       "      <th>Quantity</th>\n",
       "      <td>131706.0</td>\n",
       "      <td>NaN</td>\n",
       "      <td>NaN</td>\n",
       "      <td>NaN</td>\n",
       "      <td>1.485311</td>\n",
       "      <td>0.01</td>\n",
       "      <td>1.0</td>\n",
       "      <td>1.0</td>\n",
       "      <td>1.0</td>\n",
       "      <td>400.0</td>\n",
       "      <td>3.872667</td>\n",
       "    </tr>\n",
       "    <tr>\n",
       "      <th>Sales_Amount</th>\n",
       "      <td>131706.0</td>\n",
       "      <td>NaN</td>\n",
       "      <td>NaN</td>\n",
       "      <td>NaN</td>\n",
       "      <td>11.981524</td>\n",
       "      <td>0.02</td>\n",
       "      <td>4.23</td>\n",
       "      <td>6.92</td>\n",
       "      <td>12.33</td>\n",
       "      <td>707.73</td>\n",
       "      <td>19.359699</td>\n",
       "    </tr>\n",
       "    <tr>\n",
       "      <th>Month</th>\n",
       "      <td>131706.0</td>\n",
       "      <td>NaN</td>\n",
       "      <td>NaN</td>\n",
       "      <td>NaN</td>\n",
       "      <td>6.623791</td>\n",
       "      <td>1.0</td>\n",
       "      <td>4.0</td>\n",
       "      <td>7.0</td>\n",
       "      <td>10.0</td>\n",
       "      <td>12.0</td>\n",
       "      <td>3.472462</td>\n",
       "    </tr>\n",
       "    <tr>\n",
       "      <th>Day</th>\n",
       "      <td>131706.0</td>\n",
       "      <td>NaN</td>\n",
       "      <td>NaN</td>\n",
       "      <td>NaN</td>\n",
       "      <td>15.645506</td>\n",
       "      <td>1.0</td>\n",
       "      <td>8.0</td>\n",
       "      <td>16.0</td>\n",
       "      <td>23.0</td>\n",
       "      <td>31.0</td>\n",
       "      <td>8.509053</td>\n",
       "    </tr>\n",
       "    <tr>\n",
       "      <th>Day_Of_Week</th>\n",
       "      <td>131706.0</td>\n",
       "      <td>NaN</td>\n",
       "      <td>NaN</td>\n",
       "      <td>NaN</td>\n",
       "      <td>2.657548</td>\n",
       "      <td>0.0</td>\n",
       "      <td>1.0</td>\n",
       "      <td>3.0</td>\n",
       "      <td>4.0</td>\n",
       "      <td>6.0</td>\n",
       "      <td>1.820095</td>\n",
       "    </tr>\n",
       "    <tr>\n",
       "      <th>Day_Name</th>\n",
       "      <td>131706</td>\n",
       "      <td>7</td>\n",
       "      <td>Friday</td>\n",
       "      <td>23396</td>\n",
       "      <td>NaN</td>\n",
       "      <td>NaN</td>\n",
       "      <td>NaN</td>\n",
       "      <td>NaN</td>\n",
       "      <td>NaN</td>\n",
       "      <td>NaN</td>\n",
       "      <td>NaN</td>\n",
       "    </tr>\n",
       "    <tr>\n",
       "      <th>Month_Name</th>\n",
       "      <td>131706</td>\n",
       "      <td>12</td>\n",
       "      <td>December</td>\n",
       "      <td>12535</td>\n",
       "      <td>NaN</td>\n",
       "      <td>NaN</td>\n",
       "      <td>NaN</td>\n",
       "      <td>NaN</td>\n",
       "      <td>NaN</td>\n",
       "      <td>NaN</td>\n",
       "      <td>NaN</td>\n",
       "    </tr>\n",
       "  </tbody>\n",
       "</table>\n",
       "</div>"
      ],
      "text/plain": [
       "                   count unique       top   freq  \\\n",
       "Date              131706    NaN       NaN    NaN   \n",
       "Customer_ID     131706.0    NaN       NaN    NaN   \n",
       "Transaction_ID  131706.0    NaN       NaN    NaN   \n",
       "SKU_Category      131706    187       N8U  10913   \n",
       "SKU               131706   5242     UNJKW   2007   \n",
       "Quantity        131706.0    NaN       NaN    NaN   \n",
       "Sales_Amount    131706.0    NaN       NaN    NaN   \n",
       "Month           131706.0    NaN       NaN    NaN   \n",
       "Day             131706.0    NaN       NaN    NaN   \n",
       "Day_Of_Week     131706.0    NaN       NaN    NaN   \n",
       "Day_Name          131706      7    Friday  23396   \n",
       "Month_Name        131706     12  December  12535   \n",
       "\n",
       "                                         mean                  min  \\\n",
       "Date            2016-07-04 18:00:03.608036096  2016-01-02 00:00:00   \n",
       "Customer_ID                      12386.450367                  1.0   \n",
       "Transaction_ID                   32389.604187                  1.0   \n",
       "SKU_Category                              NaN                  NaN   \n",
       "SKU                                       NaN                  NaN   \n",
       "Quantity                             1.485311                 0.01   \n",
       "Sales_Amount                        11.981524                 0.02   \n",
       "Month                                6.623791                  1.0   \n",
       "Day                                 15.645506                  1.0   \n",
       "Day_Of_Week                          2.657548                  0.0   \n",
       "Day_Name                                  NaN                  NaN   \n",
       "Month_Name                                NaN                  NaN   \n",
       "\n",
       "                                25%                  50%                  75%  \\\n",
       "Date            2016-04-05 00:00:00  2016-07-02 00:00:00  2016-10-07 00:00:00   \n",
       "Customer_ID                  7349.0              13496.0              17306.0   \n",
       "Transaction_ID              16134.0              32620.0              48548.0   \n",
       "SKU_Category                    NaN                  NaN                  NaN   \n",
       "SKU                             NaN                  NaN                  NaN   \n",
       "Quantity                        1.0                  1.0                  1.0   \n",
       "Sales_Amount                   4.23                 6.92                12.33   \n",
       "Month                           4.0                  7.0                 10.0   \n",
       "Day                             8.0                 16.0                 23.0   \n",
       "Day_Of_Week                     1.0                  3.0                  4.0   \n",
       "Day_Name                        NaN                  NaN                  NaN   \n",
       "Month_Name                      NaN                  NaN                  NaN   \n",
       "\n",
       "                                max           std  \n",
       "Date            2016-12-31 00:00:00           NaN  \n",
       "Customer_ID                 22625.0   6086.447552  \n",
       "Transaction_ID              64682.0  18709.901238  \n",
       "SKU_Category                    NaN           NaN  \n",
       "SKU                             NaN           NaN  \n",
       "Quantity                      400.0      3.872667  \n",
       "Sales_Amount                 707.73     19.359699  \n",
       "Month                          12.0      3.472462  \n",
       "Day                            31.0      8.509053  \n",
       "Day_Of_Week                     6.0      1.820095  \n",
       "Day_Name                        NaN           NaN  \n",
       "Month_Name                      NaN           NaN  "
      ]
     },
     "execution_count": 9,
     "metadata": {},
     "output_type": "execute_result"
    }
   ],
   "source": [
    "df.describe(include='all').T"
   ]
  },
  {
   "cell_type": "markdown",
   "id": "34a5963e-5d59-4756-b1b4-8d23f48bfb3a",
   "metadata": {},
   "source": [
    "**EDA**"
   ]
  },
  {
   "cell_type": "code",
   "execution_count": 10,
   "id": "35f590e8-493a-4354-857b-f7546efbb341",
   "metadata": {},
   "outputs": [
    {
     "data": {
      "text/plain": [
       "22625"
      ]
     },
     "execution_count": 10,
     "metadata": {},
     "output_type": "execute_result"
    }
   ],
   "source": [
    "df.Customer_ID.nunique()"
   ]
  },
  {
   "cell_type": "code",
   "execution_count": 36,
   "id": "58a69444-5c7c-4918-8542-af373aa604be",
   "metadata": {},
   "outputs": [],
   "source": [
    "def barplot_with_percentage(data,x_label,y_label,figsize=(9,5)):\n",
    "    plt.figure(figsize=figsize)\n",
    "    g = sns.barplot(data,x=x_label,y=y_label)\n",
    "    g.set_xticklabels(labels=data[x_label].to_list(), rotation=90)\n",
    "\n",
    "    for p in g.patches:\n",
    "        txt = str(p.get_height().round(2)) + '%'\n",
    "        txt_x = p.get_x() \n",
    "        txt_y = p.get_height() + 0.1\n",
    "        g.text(txt_x,txt_y,txt)\n",
    "\n",
    "plt.show()"
   ]
  },
  {
   "cell_type": "markdown",
   "id": "cb1f7269-ee29-45db-94db-aa730bafceab",
   "metadata": {},
   "source": [
    "SKU Categories"
   ]
  },
  {
   "cell_type": "code",
   "execution_count": 12,
   "id": "8f693dab-0c4f-41ba-a5b2-9301b6cb7109",
   "metadata": {},
   "outputs": [
    {
     "data": {
      "text/plain": [
       "SKU_Category\n",
       "N8U    0.082859\n",
       "R6E    0.038715\n",
       "LPF    0.038434\n",
       "P42    0.036718\n",
       "U5F    0.034698\n",
       "Name: proportion, dtype: float64"
      ]
     },
     "execution_count": 12,
     "metadata": {},
     "output_type": "execute_result"
    }
   ],
   "source": [
    "df.SKU_Category.value_counts(normalize=True).head()"
   ]
  },
  {
   "cell_type": "code",
   "execution_count": 13,
   "id": "3ff47e18-d392-4f7b-bc2c-8aa1c9d0cd1d",
   "metadata": {},
   "outputs": [
    {
     "data": {
      "text/plain": [
       "SKU_Category\n",
       "7MA    3\n",
       "U3N    2\n",
       "2JO    1\n",
       "OTK    1\n",
       "QON    1\n",
       "Name: count, dtype: int64"
      ]
     },
     "execution_count": 13,
     "metadata": {},
     "output_type": "execute_result"
    }
   ],
   "source": [
    "df.SKU_Category.value_counts().tail()"
   ]
  },
  {
   "cell_type": "code",
   "execution_count": 14,
   "id": "58c5c136-de5b-4ac2-a748-c7d559b5ffb2",
   "metadata": {},
   "outputs": [
    {
     "data": {
      "text/plain": [
       "SKU\n",
       "UNJKW    2007\n",
       "COWU2     791\n",
       "OV1P9     737\n",
       "M6J9W     698\n",
       "C6TXL     689\n",
       "Name: count, dtype: int64"
      ]
     },
     "execution_count": 14,
     "metadata": {},
     "output_type": "execute_result"
    }
   ],
   "source": [
    "df.SKU.value_counts().head()"
   ]
  },
  {
   "cell_type": "code",
   "execution_count": 15,
   "id": "11555113-27fe-4b4f-aad3-159dc98d7d10",
   "metadata": {},
   "outputs": [
    {
     "data": {
      "text/plain": [
       "SKU\n",
       "TQGGG    1\n",
       "TQ58U    1\n",
       "TPKG7    1\n",
       "FR26V    1\n",
       "ZZX6K    1\n",
       "Name: count, dtype: int64"
      ]
     },
     "execution_count": 15,
     "metadata": {},
     "output_type": "execute_result"
    }
   ],
   "source": [
    "df.SKU.value_counts().tail()"
   ]
  },
  {
   "cell_type": "markdown",
   "id": "0de4c6db-cd5b-4e84-8aff-6eec2358a2a7",
   "metadata": {},
   "source": [
    "Date"
   ]
  },
  {
   "cell_type": "code",
   "execution_count": 16,
   "id": "9ed1ef2c-6649-4e42-9bb8-dfc348325ac8",
   "metadata": {},
   "outputs": [
    {
     "data": {
      "text/plain": [
       "Date\n",
       "2016-09-23    638\n",
       "2016-12-15    614\n",
       "2016-09-22    606\n",
       "2016-05-13    602\n",
       "2016-12-16    594\n",
       "             ... \n",
       "2016-07-31    128\n",
       "2016-01-03    111\n",
       "2016-08-28    107\n",
       "2016-12-24    100\n",
       "2016-03-28     73\n",
       "Name: count, Length: 363, dtype: int64"
      ]
     },
     "execution_count": 16,
     "metadata": {},
     "output_type": "execute_result"
    }
   ],
   "source": [
    "df.Date.value_counts()"
   ]
  },
  {
   "cell_type": "code",
   "execution_count": 17,
   "id": "e762d657-4872-4e12-ae2a-6d29ccf37141",
   "metadata": {},
   "outputs": [
    {
     "data": {
      "text/html": [
       "<div>\n",
       "<style scoped>\n",
       "    .dataframe tbody tr th:only-of-type {\n",
       "        vertical-align: middle;\n",
       "    }\n",
       "\n",
       "    .dataframe tbody tr th {\n",
       "        vertical-align: top;\n",
       "    }\n",
       "\n",
       "    .dataframe thead th {\n",
       "        text-align: right;\n",
       "    }\n",
       "</style>\n",
       "<table border=\"1\" class=\"dataframe\">\n",
       "  <thead>\n",
       "    <tr style=\"text-align: right;\">\n",
       "      <th></th>\n",
       "      <th>Day_Name</th>\n",
       "      <th>Percentage</th>\n",
       "    </tr>\n",
       "  </thead>\n",
       "  <tbody>\n",
       "    <tr>\n",
       "      <th>0</th>\n",
       "      <td>Saturday</td>\n",
       "      <td>10.907628</td>\n",
       "    </tr>\n",
       "    <tr>\n",
       "      <th>1</th>\n",
       "      <td>Sunday</td>\n",
       "      <td>6.851624</td>\n",
       "    </tr>\n",
       "    <tr>\n",
       "      <th>2</th>\n",
       "      <td>Monday</td>\n",
       "      <td>15.656842</td>\n",
       "    </tr>\n",
       "    <tr>\n",
       "      <th>3</th>\n",
       "      <td>Tuesday</td>\n",
       "      <td>15.810214</td>\n",
       "    </tr>\n",
       "    <tr>\n",
       "      <th>4</th>\n",
       "      <td>Wednesday</td>\n",
       "      <td>15.788195</td>\n",
       "    </tr>\n",
       "    <tr>\n",
       "      <th>5</th>\n",
       "      <td>Thursday</td>\n",
       "      <td>17.221691</td>\n",
       "    </tr>\n",
       "    <tr>\n",
       "      <th>6</th>\n",
       "      <td>Friday</td>\n",
       "      <td>17.763807</td>\n",
       "    </tr>\n",
       "  </tbody>\n",
       "</table>\n",
       "</div>"
      ],
      "text/plain": [
       "    Day_Name  Percentage\n",
       "0   Saturday   10.907628\n",
       "1     Sunday    6.851624\n",
       "2     Monday   15.656842\n",
       "3    Tuesday   15.810214\n",
       "4  Wednesday   15.788195\n",
       "5   Thursday   17.221691\n",
       "6     Friday   17.763807"
      ]
     },
     "execution_count": 17,
     "metadata": {},
     "output_type": "execute_result"
    }
   ],
   "source": [
    "by_day_of_week = (df.Day_Name.value_counts(normalize=True,sort=False) * 100).reset_index()\n",
    "by_day_of_week.columns = ['Day_Name','Percentage']\n",
    "\n",
    "by_day_of_week"
   ]
  },
  {
   "cell_type": "code",
   "execution_count": 18,
   "id": "bd4e03d7-fe2f-4973-ad2d-3084fb14c8fb",
   "metadata": {},
   "outputs": [
    {
     "name": "stderr",
     "output_type": "stream",
     "text": [
      "C:\\Users\\admin\\AppData\\Local\\Temp\\ipykernel_16188\\2432454399.py:4: UserWarning: set_ticklabels() should only be used with a fixed number of ticks, i.e. after set_ticks() or using a FixedLocator.\n",
      "  g.set_xticklabels(labels=data[x_label].to_list(), rotation=90)\n"
     ]
    },
    {
     "data": {
      "image/png": "[encoded data removed]",
      "text/plain": [
       "<Figure size 600x400 with 1 Axes>"
      ]
     },
     "metadata": {},
     "output_type": "display_data"
    }
   ],
   "source": [
    "barplot_with_percentage(by_day_of_week,'Day_Name','Percentage',figsize=(6,4))"
   ]
  },
  {
   "cell_type": "raw",
   "id": "097870b1-154b-414a-9906-bccc0a0ab7f7",
   "metadata": {},
   "source": [
    "Friday is the most popular day of the week accounting for 17.76% of all transactions followed by Thursday with 17.22% of all transactions.\n",
    "\n",
    "Weekends account for the lowest number of transactions with 6.85% on Sundays and 10.91% on Saturdays."
   ]
  },
  {
   "cell_type": "code",
   "execution_count": 19,
   "id": "66ae0455-c3d1-4816-9f0b-a78a69ad95f9",
   "metadata": {},
   "outputs": [
    {
     "name": "stderr",
     "output_type": "stream",
     "text": [
      "C:\\Users\\admin\\AppData\\Local\\Temp\\ipykernel_16188\\89347385.py:1: FutureWarning: The default of observed=False is deprecated and will be changed to True in a future version of pandas. Pass observed=False to retain current behavior or observed=True to adopt the future default and silence this warning.\n",
      "  totals_by_day = df.loc[:,['Day_Name','Sales_Amount']].groupby('Day_Name').sum('Sales_Amount').reset_index()\n"
     ]
    },
    {
     "data": {
      "text/html": [
       "<div>\n",
       "<style scoped>\n",
       "    .dataframe tbody tr th:only-of-type {\n",
       "        vertical-align: middle;\n",
       "    }\n",
       "\n",
       "    .dataframe tbody tr th {\n",
       "        vertical-align: top;\n",
       "    }\n",
       "\n",
       "    .dataframe thead th {\n",
       "        text-align: right;\n",
       "    }\n",
       "</style>\n",
       "<table border=\"1\" class=\"dataframe\">\n",
       "  <thead>\n",
       "    <tr style=\"text-align: right;\">\n",
       "      <th></th>\n",
       "      <th>Day_Name</th>\n",
       "      <th>Total_Sales</th>\n",
       "    </tr>\n",
       "  </thead>\n",
       "  <tbody>\n",
       "    <tr>\n",
       "      <th>0</th>\n",
       "      <td>Saturday</td>\n",
       "      <td>9.602983</td>\n",
       "    </tr>\n",
       "    <tr>\n",
       "      <th>1</th>\n",
       "      <td>Sunday</td>\n",
       "      <td>5.342246</td>\n",
       "    </tr>\n",
       "    <tr>\n",
       "      <th>2</th>\n",
       "      <td>Monday</td>\n",
       "      <td>15.492405</td>\n",
       "    </tr>\n",
       "    <tr>\n",
       "      <th>3</th>\n",
       "      <td>Tuesday</td>\n",
       "      <td>16.410937</td>\n",
       "    </tr>\n",
       "    <tr>\n",
       "      <th>4</th>\n",
       "      <td>Wednesday</td>\n",
       "      <td>16.793778</td>\n",
       "    </tr>\n",
       "    <tr>\n",
       "      <th>5</th>\n",
       "      <td>Thursday</td>\n",
       "      <td>17.641737</td>\n",
       "    </tr>\n",
       "    <tr>\n",
       "      <th>6</th>\n",
       "      <td>Friday</td>\n",
       "      <td>18.715914</td>\n",
       "    </tr>\n",
       "  </tbody>\n",
       "</table>\n",
       "</div>"
      ],
      "text/plain": [
       "    Day_Name  Total_Sales\n",
       "0   Saturday     9.602983\n",
       "1     Sunday     5.342246\n",
       "2     Monday    15.492405\n",
       "3    Tuesday    16.410937\n",
       "4  Wednesday    16.793778\n",
       "5   Thursday    17.641737\n",
       "6     Friday    18.715914"
      ]
     },
     "execution_count": 19,
     "metadata": {},
     "output_type": "execute_result"
    }
   ],
   "source": [
    "totals_by_day = df.loc[:,['Day_Name','Sales_Amount']].groupby('Day_Name').sum('Sales_Amount').reset_index()\n",
    "totals_by_day.columns = ['Day_Name','Total_Sales']\n",
    "total = totals_by_day.Total_Sales.sum()\n",
    "totals_by_day.Total_Sales = totals_by_day.Total_Sales / total * 100\n",
    "totals_by_day"
   ]
  },
  {
   "cell_type": "code",
   "execution_count": 20,
   "id": "789de4c9-421a-4a02-bf28-0787aeb171bf",
   "metadata": {},
   "outputs": [
    {
     "name": "stderr",
     "output_type": "stream",
     "text": [
      "C:\\Users\\admin\\AppData\\Local\\Temp\\ipykernel_16188\\2432454399.py:4: UserWarning: set_ticklabels() should only be used with a fixed number of ticks, i.e. after set_ticks() or using a FixedLocator.\n",
      "  g.set_xticklabels(labels=data[x_label].to_list(), rotation=90)\n"
     ]
    },
    {
     "data": {
      "image/png": "[encoded data removed]",
      "text/plain": [
       "<Figure size 600x400 with 1 Axes>"
      ]
     },
     "metadata": {},
     "output_type": "display_data"
    }
   ],
   "source": [
    "barplot_with_percentage(totals_by_day,'Day_Name','Total_Sales',figsize=(6,4))"
   ]
  },
  {
   "cell_type": "raw",
   "id": "91f05690-10dd-45c1-ae43-c36266b1597c",
   "metadata": {},
   "source": [
    "Fridays saw the highest weekly total sales followed by Thursdays with 18.72% and 17.64% respectively.\n",
    "\n",
    "Sundays saw the lowest weekly totals sales followed by Saturdays with 5.34% and 9.6% respectively."
   ]
  },
  {
   "cell_type": "markdown",
   "id": "ca7fd5a3-0a4e-490e-9953-b37f5ed41b5b",
   "metadata": {},
   "source": [
    "Month"
   ]
  },
  {
   "cell_type": "code",
   "execution_count": 21,
   "id": "7d32427d-aeab-412d-a9a3-9af2f8572f79",
   "metadata": {},
   "outputs": [
    {
     "data": {
      "text/html": [
       "<div>\n",
       "<style scoped>\n",
       "    .dataframe tbody tr th:only-of-type {\n",
       "        vertical-align: middle;\n",
       "    }\n",
       "\n",
       "    .dataframe tbody tr th {\n",
       "        vertical-align: top;\n",
       "    }\n",
       "\n",
       "    .dataframe thead th {\n",
       "        text-align: right;\n",
       "    }\n",
       "</style>\n",
       "<table border=\"1\" class=\"dataframe\">\n",
       "  <thead>\n",
       "    <tr style=\"text-align: right;\">\n",
       "      <th></th>\n",
       "      <th>Month_Name</th>\n",
       "      <th>Transactions</th>\n",
       "    </tr>\n",
       "  </thead>\n",
       "  <tbody>\n",
       "    <tr>\n",
       "      <th>0</th>\n",
       "      <td>January</td>\n",
       "      <td>7.590391</td>\n",
       "    </tr>\n",
       "    <tr>\n",
       "      <th>1</th>\n",
       "      <td>February</td>\n",
       "      <td>7.905486</td>\n",
       "    </tr>\n",
       "    <tr>\n",
       "      <th>2</th>\n",
       "      <td>March</td>\n",
       "      <td>8.249434</td>\n",
       "    </tr>\n",
       "    <tr>\n",
       "      <th>3</th>\n",
       "      <td>April</td>\n",
       "      <td>8.611605</td>\n",
       "    </tr>\n",
       "    <tr>\n",
       "      <th>4</th>\n",
       "      <td>May</td>\n",
       "      <td>9.189407</td>\n",
       "    </tr>\n",
       "    <tr>\n",
       "      <th>5</th>\n",
       "      <td>June</td>\n",
       "      <td>8.093025</td>\n",
       "    </tr>\n",
       "    <tr>\n",
       "      <th>6</th>\n",
       "      <td>July</td>\n",
       "      <td>7.443852</td>\n",
       "    </tr>\n",
       "    <tr>\n",
       "      <th>7</th>\n",
       "      <td>August</td>\n",
       "      <td>7.276054</td>\n",
       "    </tr>\n",
       "    <tr>\n",
       "      <th>8</th>\n",
       "      <td>September</td>\n",
       "      <td>8.872033</td>\n",
       "    </tr>\n",
       "    <tr>\n",
       "      <th>9</th>\n",
       "      <td>October</td>\n",
       "      <td>8.859126</td>\n",
       "    </tr>\n",
       "    <tr>\n",
       "      <th>10</th>\n",
       "      <td>November</td>\n",
       "      <td>8.392177</td>\n",
       "    </tr>\n",
       "    <tr>\n",
       "      <th>11</th>\n",
       "      <td>December</td>\n",
       "      <td>9.517410</td>\n",
       "    </tr>\n",
       "  </tbody>\n",
       "</table>\n",
       "</div>"
      ],
      "text/plain": [
       "   Month_Name  Transactions\n",
       "0     January      7.590391\n",
       "1    February      7.905486\n",
       "2       March      8.249434\n",
       "3       April      8.611605\n",
       "4         May      9.189407\n",
       "5        June      8.093025\n",
       "6        July      7.443852\n",
       "7      August      7.276054\n",
       "8   September      8.872033\n",
       "9     October      8.859126\n",
       "10   November      8.392177\n",
       "11   December      9.517410"
      ]
     },
     "execution_count": 21,
     "metadata": {},
     "output_type": "execute_result"
    }
   ],
   "source": [
    "by_month = (df.Month_Name.value_counts(normalize=True,sort=False) * 100).reset_index()\n",
    "by_month.columns = ['Month_Name','Transactions']\n",
    "\n",
    "by_month"
   ]
  },
  {
   "cell_type": "code",
   "execution_count": 22,
   "id": "f6be187d-b3bf-45f1-bd9d-34841ee93dda",
   "metadata": {},
   "outputs": [
    {
     "name": "stderr",
     "output_type": "stream",
     "text": [
      "C:\\Users\\admin\\AppData\\Local\\Temp\\ipykernel_16188\\2432454399.py:4: UserWarning: set_ticklabels() should only be used with a fixed number of ticks, i.e. after set_ticks() or using a FixedLocator.\n",
      "  g.set_xticklabels(labels=data[x_label].to_list(), rotation=90)\n"
     ]
    },
    {
     "data": {
      "image/png": "[encoded data removed]",
      "text/plain": [
       "<Figure size 900x500 with 1 Axes>"
      ]
     },
     "metadata": {},
     "output_type": "display_data"
    }
   ],
   "source": [
    "barplot_with_percentage(by_month,'Month_Name','Transactions')"
   ]
  },
  {
   "cell_type": "code",
   "execution_count": 23,
   "id": "45c9dd46-b06c-4834-ba41-8fc9da7a222e",
   "metadata": {},
   "outputs": [
    {
     "name": "stderr",
     "output_type": "stream",
     "text": [
      "C:\\Users\\admin\\AppData\\Local\\Temp\\ipykernel_16188\\1640589603.py:1: FutureWarning: The default of observed=False is deprecated and will be changed to True in a future version of pandas. Pass observed=False to retain current behavior or observed=True to adopt the future default and silence this warning.\n",
      "  totals_by_month = df.loc[:,['Month_Name','Sales_Amount']].groupby('Month_Name').sum('Sales_Amount').reset_index()\n"
     ]
    },
    {
     "data": {
      "text/html": [
       "<div>\n",
       "<style scoped>\n",
       "    .dataframe tbody tr th:only-of-type {\n",
       "        vertical-align: middle;\n",
       "    }\n",
       "\n",
       "    .dataframe tbody tr th {\n",
       "        vertical-align: top;\n",
       "    }\n",
       "\n",
       "    .dataframe thead th {\n",
       "        text-align: right;\n",
       "    }\n",
       "</style>\n",
       "<table border=\"1\" class=\"dataframe\">\n",
       "  <thead>\n",
       "    <tr style=\"text-align: right;\">\n",
       "      <th></th>\n",
       "      <th>Month_Name</th>\n",
       "      <th>Total_Sales</th>\n",
       "    </tr>\n",
       "  </thead>\n",
       "  <tbody>\n",
       "    <tr>\n",
       "      <th>0</th>\n",
       "      <td>January</td>\n",
       "      <td>7.046740</td>\n",
       "    </tr>\n",
       "    <tr>\n",
       "      <th>1</th>\n",
       "      <td>February</td>\n",
       "      <td>7.738379</td>\n",
       "    </tr>\n",
       "    <tr>\n",
       "      <th>2</th>\n",
       "      <td>March</td>\n",
       "      <td>8.106553</td>\n",
       "    </tr>\n",
       "    <tr>\n",
       "      <th>3</th>\n",
       "      <td>April</td>\n",
       "      <td>8.755940</td>\n",
       "    </tr>\n",
       "    <tr>\n",
       "      <th>4</th>\n",
       "      <td>May</td>\n",
       "      <td>9.044130</td>\n",
       "    </tr>\n",
       "    <tr>\n",
       "      <th>5</th>\n",
       "      <td>June</td>\n",
       "      <td>8.320794</td>\n",
       "    </tr>\n",
       "    <tr>\n",
       "      <th>6</th>\n",
       "      <td>July</td>\n",
       "      <td>7.641890</td>\n",
       "    </tr>\n",
       "    <tr>\n",
       "      <th>7</th>\n",
       "      <td>August</td>\n",
       "      <td>7.408499</td>\n",
       "    </tr>\n",
       "    <tr>\n",
       "      <th>8</th>\n",
       "      <td>September</td>\n",
       "      <td>8.950344</td>\n",
       "    </tr>\n",
       "    <tr>\n",
       "      <th>9</th>\n",
       "      <td>October</td>\n",
       "      <td>8.925859</td>\n",
       "    </tr>\n",
       "    <tr>\n",
       "      <th>10</th>\n",
       "      <td>November</td>\n",
       "      <td>8.420791</td>\n",
       "    </tr>\n",
       "    <tr>\n",
       "      <th>11</th>\n",
       "      <td>December</td>\n",
       "      <td>9.640080</td>\n",
       "    </tr>\n",
       "  </tbody>\n",
       "</table>\n",
       "</div>"
      ],
      "text/plain": [
       "   Month_Name  Total_Sales\n",
       "0     January     7.046740\n",
       "1    February     7.738379\n",
       "2       March     8.106553\n",
       "3       April     8.755940\n",
       "4         May     9.044130\n",
       "5        June     8.320794\n",
       "6        July     7.641890\n",
       "7      August     7.408499\n",
       "8   September     8.950344\n",
       "9     October     8.925859\n",
       "10   November     8.420791\n",
       "11   December     9.640080"
      ]
     },
     "execution_count": 23,
     "metadata": {},
     "output_type": "execute_result"
    }
   ],
   "source": [
    "totals_by_month = df.loc[:,['Month_Name','Sales_Amount']].groupby('Month_Name').sum('Sales_Amount').reset_index()\n",
    "totals_by_month.columns = ['Month_Name','Total_Sales']\n",
    "total = totals_by_month.Total_Sales.sum()\n",
    "totals_by_month.Total_Sales = totals_by_month.Total_Sales / total * 100\n",
    "totals_by_month"
   ]
  },
  {
   "cell_type": "code",
   "execution_count": 24,
   "id": "441b9207-d3dc-4aa0-a4e6-21363b8d940e",
   "metadata": {},
   "outputs": [
    {
     "name": "stderr",
     "output_type": "stream",
     "text": [
      "C:\\Users\\admin\\AppData\\Local\\Temp\\ipykernel_16188\\2432454399.py:4: UserWarning: set_ticklabels() should only be used with a fixed number of ticks, i.e. after set_ticks() or using a FixedLocator.\n",
      "  g.set_xticklabels(labels=data[x_label].to_list(), rotation=90)\n"
     ]
    },
    {
     "data": {
      "image/png": "[encoded data removed]",
      "text/plain": [
       "<Figure size 900x500 with 1 Axes>"
      ]
     },
     "metadata": {},
     "output_type": "display_data"
    }
   ],
   "source": [
    "barplot_with_percentage(totals_by_month,'Month_Name','Total_Sales')"
   ]
  },
  {
   "cell_type": "markdown",
   "id": "53335527-c4cf-46e8-b1e9-69f35cdc0c98",
   "metadata": {},
   "source": [
    "December saw highest in total sales followed by May accounting for 9.64% and 9.04% of total sales.\n",
    "\n",
    "January had the lowest in total sales followed by Auguest accounting for 7.05% and 7.41% of total sales."
   ]
  },
  {
   "cell_type": "markdown",
   "id": "8e0fca9c-fdfa-491d-bd2c-1c40e637d9b5",
   "metadata": {},
   "source": [
    "Popular SKU by day of week"
   ]
  },
  {
   "cell_type": "code",
   "execution_count": 25,
   "id": "0c514740-082e-4b43-9c3e-24b2f3f9916a",
   "metadata": {},
   "outputs": [
    {
     "name": "stderr",
     "output_type": "stream",
     "text": [
      "C:\\Users\\admin\\AppData\\Local\\Temp\\ipykernel_16188\\808967397.py:1: FutureWarning: The default of observed=False is deprecated and will be changed to True in a future version of pandas. Pass observed=False to retain current behavior or observed=True to adopt the future default and silence this warning.\n",
      "  df.loc[:,['Day_Name','SKU']].groupby('Day_Name').value_counts().groupby(level=0, group_keys=False).head(3)\n",
      "C:\\Users\\admin\\AppData\\Local\\Temp\\ipykernel_16188\\808967397.py:1: FutureWarning: The default of observed=False is deprecated and will be changed to True in a future version of pandas. Pass observed=False to retain current behavior or observed=True to adopt the future default and silence this warning.\n",
      "  df.loc[:,['Day_Name','SKU']].groupby('Day_Name').value_counts().groupby(level=0, group_keys=False).head(3)\n"
     ]
    },
    {
     "data": {
      "text/plain": [
       "Day_Name   SKU  \n",
       "Saturday   UNJKW    290\n",
       "           COWU2    131\n",
       "           OV1P9    130\n",
       "Sunday     UNJKW    201\n",
       "           OV1P9    106\n",
       "           M6J9W     78\n",
       "Monday     UNJKW    299\n",
       "           CZUZX    119\n",
       "           C6TXL    116\n",
       "Tuesday    UNJKW    280\n",
       "           TL4WZ    131\n",
       "           C6TXL    130\n",
       "Wednesday  UNJKW    267\n",
       "           C6TXL    113\n",
       "           DWJC4    113\n",
       "Thursday   UNJKW    347\n",
       "           COWU2    143\n",
       "           C6TXL    138\n",
       "Friday     UNJKW    323\n",
       "           QGK3S    131\n",
       "           C6TXL    128\n",
       "Name: count, dtype: int64"
      ]
     },
     "execution_count": 25,
     "metadata": {},
     "output_type": "execute_result"
    }
   ],
   "source": [
    "df.loc[:,['Day_Name','SKU']].groupby('Day_Name').value_counts().groupby(level=0, group_keys=False).head(3)"
   ]
  },
  {
   "cell_type": "raw",
   "id": "d4211dff-44fa-4c04-a8c0-055b8d53699e",
   "metadata": {},
   "source": [
    "UNJKW is most popular SKU regardless of day of the week\n",
    "C6TXL is popular on Weekdays only\n",
    "COWU2 is popular on Saturdays and Thursdays\n",
    "OV1P9 is popular on Saturdays and Sundays\n",
    "M6J9W is popular on Sundays\n",
    "CZUZX is popular on Mondays\n",
    "TL4WZ is popular on Tuesdays\n",
    "DWJC4 is popular on Wednesdays\n",
    "QGK3S is popular on Fridays"
   ]
  },
  {
   "cell_type": "markdown",
   "id": "73f30558-c8ad-4903-bdc5-264d0ff71e8d",
   "metadata": {},
   "source": [
    "Popular SKUs by Month"
   ]
  },
  {
   "cell_type": "code",
   "execution_count": 26,
   "id": "881ff55f-ebaf-45e9-8119-f109edb17a2d",
   "metadata": {},
   "outputs": [
    {
     "name": "stderr",
     "output_type": "stream",
     "text": [
      "C:\\Users\\admin\\AppData\\Local\\Temp\\ipykernel_16188\\4275028834.py:1: FutureWarning: The default of observed=False is deprecated and will be changed to True in a future version of pandas. Pass observed=False to retain current behavior or observed=True to adopt the future default and silence this warning.\n",
      "  df.loc[:,['Month_Name','SKU']].groupby('Month_Name').value_counts().groupby(level=0, group_keys=False).head(2)\n",
      "C:\\Users\\admin\\AppData\\Local\\Temp\\ipykernel_16188\\4275028834.py:1: FutureWarning: The default of observed=False is deprecated and will be changed to True in a future version of pandas. Pass observed=False to retain current behavior or observed=True to adopt the future default and silence this warning.\n",
      "  df.loc[:,['Month_Name','SKU']].groupby('Month_Name').value_counts().groupby(level=0, group_keys=False).head(2)\n"
     ]
    },
    {
     "data": {
      "text/plain": [
       "Month_Name  SKU  \n",
       "January     UNJKW    167\n",
       "            OV1P9     93\n",
       "February    UNJKW    190\n",
       "            COWU2    116\n",
       "March       UNJKW    178\n",
       "            COWU2    121\n",
       "April       UNJKW    151\n",
       "            M6J9W    148\n",
       "May         UNJKW    124\n",
       "            F79YP     82\n",
       "June        UNJKW    112\n",
       "            7TUN3     68\n",
       "July        UNJKW    122\n",
       "            M6J9W    106\n",
       "August      UNJKW    109\n",
       "            M6J9W     76\n",
       "September   UNJKW    173\n",
       "            OV1P9     85\n",
       "October     UNJKW    235\n",
       "            7GQRJ    103\n",
       "November    UNJKW    175\n",
       "            DWJC4     59\n",
       "December    UNJKW    271\n",
       "            E3PAN    105\n",
       "Name: count, dtype: int64"
      ]
     },
     "execution_count": 26,
     "metadata": {},
     "output_type": "execute_result"
    }
   ],
   "source": [
    "df.loc[:,['Month_Name','SKU']].groupby('Month_Name').value_counts().groupby(level=0, group_keys=False).head(2)"
   ]
  },
  {
   "cell_type": "raw",
   "id": "469eb4e9-7be6-4e28-9a30-05bf9fca3560",
   "metadata": {},
   "source": [
    "UNJKW is most popular SKU regardless of month\n",
    "OV1P9 is popular in January, September, and November\n",
    "M6J9W is popular in April, July, and August\n",
    "COWU2 is popular in February and March\n",
    "F79YP is popular in May\n",
    "7TUN3 is popular in June\n",
    "7GQRJ is popular in October\n",
    "E3PAN is popular in December"
   ]
  },
  {
   "cell_type": "markdown",
   "id": "2ba0c01f-8cd6-4726-8051-8012a61c8ab5",
   "metadata": {},
   "source": [
    "Transactions"
   ]
  },
  {
   "cell_type": "code",
   "execution_count": 27,
   "id": "7c6e5f44-bb4d-42dc-9829-21eec9b884e9",
   "metadata": {},
   "outputs": [
    {
     "data": {
      "text/plain": [
       "64682"
      ]
     },
     "execution_count": 27,
     "metadata": {},
     "output_type": "execute_result"
    }
   ],
   "source": [
    "df.Transaction_ID.nunique()"
   ]
  },
  {
   "cell_type": "raw",
   "id": "00c8fdb3-073b-490c-aefd-1c8ffae3d313",
   "metadata": {},
   "source": [
    "There are 64682 unique sale transactions"
   ]
  },
  {
   "cell_type": "code",
   "execution_count": 28,
   "id": "94f38607-ab39-41a6-80ca-567517296ffa",
   "metadata": {},
   "outputs": [
    {
     "data": {
      "text/html": [
       "<div>\n",
       "<style scoped>\n",
       "    .dataframe tbody tr th:only-of-type {\n",
       "        vertical-align: middle;\n",
       "    }\n",
       "\n",
       "    .dataframe tbody tr th {\n",
       "        vertical-align: top;\n",
       "    }\n",
       "\n",
       "    .dataframe thead th {\n",
       "        text-align: right;\n",
       "    }\n",
       "</style>\n",
       "<table border=\"1\" class=\"dataframe\">\n",
       "  <thead>\n",
       "    <tr style=\"text-align: right;\">\n",
       "      <th></th>\n",
       "      <th>Transaction_ID</th>\n",
       "      <th>Sales_Amount</th>\n",
       "    </tr>\n",
       "  </thead>\n",
       "  <tbody>\n",
       "    <tr>\n",
       "      <th>54016</th>\n",
       "      <td>54017</td>\n",
       "      <td>0.03</td>\n",
       "    </tr>\n",
       "    <tr>\n",
       "      <th>36185</th>\n",
       "      <td>36186</td>\n",
       "      <td>0.06</td>\n",
       "    </tr>\n",
       "    <tr>\n",
       "      <th>31140</th>\n",
       "      <td>31141</td>\n",
       "      <td>0.08</td>\n",
       "    </tr>\n",
       "    <tr>\n",
       "      <th>38483</th>\n",
       "      <td>38484</td>\n",
       "      <td>0.08</td>\n",
       "    </tr>\n",
       "    <tr>\n",
       "      <th>9260</th>\n",
       "      <td>9261</td>\n",
       "      <td>0.11</td>\n",
       "    </tr>\n",
       "    <tr>\n",
       "      <th>...</th>\n",
       "      <td>...</td>\n",
       "      <td>...</td>\n",
       "    </tr>\n",
       "    <tr>\n",
       "      <th>5240</th>\n",
       "      <td>5241</td>\n",
       "      <td>610.43</td>\n",
       "    </tr>\n",
       "    <tr>\n",
       "      <th>16270</th>\n",
       "      <td>16271</td>\n",
       "      <td>645.59</td>\n",
       "    </tr>\n",
       "    <tr>\n",
       "      <th>63977</th>\n",
       "      <td>63978</td>\n",
       "      <td>649.06</td>\n",
       "    </tr>\n",
       "    <tr>\n",
       "      <th>38843</th>\n",
       "      <td>38844</td>\n",
       "      <td>662.42</td>\n",
       "    </tr>\n",
       "    <tr>\n",
       "      <th>54484</th>\n",
       "      <td>54485</td>\n",
       "      <td>707.73</td>\n",
       "    </tr>\n",
       "  </tbody>\n",
       "</table>\n",
       "<p>64682 rows × 2 columns</p>\n",
       "</div>"
      ],
      "text/plain": [
       "       Transaction_ID  Sales_Amount\n",
       "54016           54017          0.03\n",
       "36185           36186          0.06\n",
       "31140           31141          0.08\n",
       "38483           38484          0.08\n",
       "9260             9261          0.11\n",
       "...               ...           ...\n",
       "5240             5241        610.43\n",
       "16270           16271        645.59\n",
       "63977           63978        649.06\n",
       "38843           38844        662.42\n",
       "54484           54485        707.73\n",
       "\n",
       "[64682 rows x 2 columns]"
      ]
     },
     "execution_count": 28,
     "metadata": {},
     "output_type": "execute_result"
    }
   ],
   "source": [
    "df.loc[:,['Transaction_ID','Sales_Amount']].groupby('Transaction_ID').sum().reset_index().sort_values('Sales_Amount')"
   ]
  },
  {
   "cell_type": "raw",
   "id": "27e5914d-801b-4e13-a04c-e4ff7e92be75",
   "metadata": {},
   "source": [
    "Minimum sales amount for a single transaction is as low as 0.03 and maximum is as high as 707.73"
   ]
  },
  {
   "cell_type": "code",
   "execution_count": 29,
   "id": "7797a01a-d864-4dbf-aebe-5eb4fd74c02c",
   "metadata": {},
   "outputs": [
    {
     "data": {
      "text/html": [
       "<div>\n",
       "<style scoped>\n",
       "    .dataframe tbody tr th:only-of-type {\n",
       "        vertical-align: middle;\n",
       "    }\n",
       "\n",
       "    .dataframe tbody tr th {\n",
       "        vertical-align: top;\n",
       "    }\n",
       "\n",
       "    .dataframe thead th {\n",
       "        text-align: right;\n",
       "    }\n",
       "</style>\n",
       "<table border=\"1\" class=\"dataframe\">\n",
       "  <thead>\n",
       "    <tr style=\"text-align: right;\">\n",
       "      <th></th>\n",
       "      <th>Transaction_ID</th>\n",
       "      <th>SKU</th>\n",
       "    </tr>\n",
       "  </thead>\n",
       "  <tbody>\n",
       "    <tr>\n",
       "      <th>0</th>\n",
       "      <td>1</td>\n",
       "      <td>1</td>\n",
       "    </tr>\n",
       "    <tr>\n",
       "      <th>35939</th>\n",
       "      <td>35940</td>\n",
       "      <td>1</td>\n",
       "    </tr>\n",
       "    <tr>\n",
       "      <th>35941</th>\n",
       "      <td>35942</td>\n",
       "      <td>1</td>\n",
       "    </tr>\n",
       "    <tr>\n",
       "      <th>35942</th>\n",
       "      <td>35943</td>\n",
       "      <td>1</td>\n",
       "    </tr>\n",
       "    <tr>\n",
       "      <th>35945</th>\n",
       "      <td>35946</td>\n",
       "      <td>1</td>\n",
       "    </tr>\n",
       "    <tr>\n",
       "      <th>...</th>\n",
       "      <td>...</td>\n",
       "      <td>...</td>\n",
       "    </tr>\n",
       "    <tr>\n",
       "      <th>28730</th>\n",
       "      <td>28731</td>\n",
       "      <td>19</td>\n",
       "    </tr>\n",
       "    <tr>\n",
       "      <th>34203</th>\n",
       "      <td>34204</td>\n",
       "      <td>19</td>\n",
       "    </tr>\n",
       "    <tr>\n",
       "      <th>42294</th>\n",
       "      <td>42295</td>\n",
       "      <td>20</td>\n",
       "    </tr>\n",
       "    <tr>\n",
       "      <th>19097</th>\n",
       "      <td>19098</td>\n",
       "      <td>21</td>\n",
       "    </tr>\n",
       "    <tr>\n",
       "      <th>1347</th>\n",
       "      <td>1348</td>\n",
       "      <td>21</td>\n",
       "    </tr>\n",
       "  </tbody>\n",
       "</table>\n",
       "<p>64682 rows × 2 columns</p>\n",
       "</div>"
      ],
      "text/plain": [
       "       Transaction_ID  SKU\n",
       "0                   1    1\n",
       "35939           35940    1\n",
       "35941           35942    1\n",
       "35942           35943    1\n",
       "35945           35946    1\n",
       "...               ...  ...\n",
       "28730           28731   19\n",
       "34203           34204   19\n",
       "42294           42295   20\n",
       "19097           19098   21\n",
       "1347             1348   21\n",
       "\n",
       "[64682 rows x 2 columns]"
      ]
     },
     "execution_count": 29,
     "metadata": {},
     "output_type": "execute_result"
    }
   ],
   "source": [
    "df.loc[:,['Transaction_ID','SKU']].groupby('Transaction_ID').count().reset_index().sort_values('SKU')"
   ]
  },
  {
   "cell_type": "raw",
   "id": "2c446ff0-1250-4451-b436-0b9097bd1d24",
   "metadata": {},
   "source": [
    "Minimum items per transactions is as low as 1 and as high as 21"
   ]
  },
  {
   "cell_type": "markdown",
   "id": "5b2fb53f-8b68-496f-8b88-cdb3c956679a",
   "metadata": {},
   "source": [
    "SKU by counts"
   ]
  },
  {
   "cell_type": "code",
   "execution_count": 30,
   "id": "da555ba6-cc91-405f-b6e1-8e6ce8b400f4",
   "metadata": {},
   "outputs": [
    {
     "name": "stderr",
     "output_type": "stream",
     "text": [
      "C:\\Users\\admin\\AppData\\Local\\Temp\\ipykernel_16188\\3526503242.py:1: FutureWarning: The default of observed=False is deprecated and will be changed to True in a future version of pandas. Pass observed=False to retain current behavior or observed=True to adopt the future default and silence this warning.\n",
      "  df[['SKU','Quantity','Sales_Amount']].groupby('SKU').sum().reset_index().sort_values('Quantity')\n"
     ]
    },
    {
     "data": {
      "text/html": [
       "<div>\n",
       "<style scoped>\n",
       "    .dataframe tbody tr th:only-of-type {\n",
       "        vertical-align: middle;\n",
       "    }\n",
       "\n",
       "    .dataframe tbody tr th {\n",
       "        vertical-align: top;\n",
       "    }\n",
       "\n",
       "    .dataframe thead th {\n",
       "        text-align: right;\n",
       "    }\n",
       "</style>\n",
       "<table border=\"1\" class=\"dataframe\">\n",
       "  <thead>\n",
       "    <tr style=\"text-align: right;\">\n",
       "      <th></th>\n",
       "      <th>SKU</th>\n",
       "      <th>Quantity</th>\n",
       "      <th>Sales_Amount</th>\n",
       "    </tr>\n",
       "  </thead>\n",
       "  <tbody>\n",
       "    <tr>\n",
       "      <th>1935</th>\n",
       "      <td>D0APX</td>\n",
       "      <td>0.10</td>\n",
       "      <td>69.38</td>\n",
       "    </tr>\n",
       "    <tr>\n",
       "      <th>5136</th>\n",
       "      <td>Z8IA4</td>\n",
       "      <td>0.20</td>\n",
       "      <td>117.00</td>\n",
       "    </tr>\n",
       "    <tr>\n",
       "      <th>3183</th>\n",
       "      <td>LJSFV</td>\n",
       "      <td>0.30</td>\n",
       "      <td>1.02</td>\n",
       "    </tr>\n",
       "    <tr>\n",
       "      <th>4916</th>\n",
       "      <td>XMHTE</td>\n",
       "      <td>0.33</td>\n",
       "      <td>12.59</td>\n",
       "    </tr>\n",
       "    <tr>\n",
       "      <th>4955</th>\n",
       "      <td>XY1DR</td>\n",
       "      <td>0.33</td>\n",
       "      <td>9.98</td>\n",
       "    </tr>\n",
       "    <tr>\n",
       "      <th>...</th>\n",
       "      <td>...</td>\n",
       "      <td>...</td>\n",
       "      <td>...</td>\n",
       "    </tr>\n",
       "    <tr>\n",
       "      <th>3370</th>\n",
       "      <td>MXKDP</td>\n",
       "      <td>1252.00</td>\n",
       "      <td>313.08</td>\n",
       "    </tr>\n",
       "    <tr>\n",
       "      <th>2134</th>\n",
       "      <td>EEI1Q</td>\n",
       "      <td>1568.00</td>\n",
       "      <td>515.37</td>\n",
       "    </tr>\n",
       "    <tr>\n",
       "      <th>4504</th>\n",
       "      <td>UNJKW</td>\n",
       "      <td>2179.00</td>\n",
       "      <td>4526.28</td>\n",
       "    </tr>\n",
       "    <tr>\n",
       "      <th>4302</th>\n",
       "      <td>TD3DD</td>\n",
       "      <td>3786.00</td>\n",
       "      <td>1039.12</td>\n",
       "    </tr>\n",
       "    <tr>\n",
       "      <th>1859</th>\n",
       "      <td>CKDW0</td>\n",
       "      <td>5769.20</td>\n",
       "      <td>235.88</td>\n",
       "    </tr>\n",
       "  </tbody>\n",
       "</table>\n",
       "<p>5242 rows × 3 columns</p>\n",
       "</div>"
      ],
      "text/plain": [
       "        SKU  Quantity  Sales_Amount\n",
       "1935  D0APX      0.10         69.38\n",
       "5136  Z8IA4      0.20        117.00\n",
       "3183  LJSFV      0.30          1.02\n",
       "4916  XMHTE      0.33         12.59\n",
       "4955  XY1DR      0.33          9.98\n",
       "...     ...       ...           ...\n",
       "3370  MXKDP   1252.00        313.08\n",
       "2134  EEI1Q   1568.00        515.37\n",
       "4504  UNJKW   2179.00       4526.28\n",
       "4302  TD3DD   3786.00       1039.12\n",
       "1859  CKDW0   5769.20        235.88\n",
       "\n",
       "[5242 rows x 3 columns]"
      ]
     },
     "execution_count": 30,
     "metadata": {},
     "output_type": "execute_result"
    }
   ],
   "source": [
    "df[['SKU','Quantity','Sales_Amount']].groupby('SKU').sum().reset_index().sort_values('Quantity')"
   ]
  },
  {
   "cell_type": "markdown",
   "id": "5400ab3a-d60f-4e1b-809b-c84ec47b70b3",
   "metadata": {},
   "source": [
    "SKU by Sales Amount"
   ]
  },
  {
   "cell_type": "code",
   "execution_count": 31,
   "id": "8a38bf10-2eb1-4c9a-b61f-0b1afecf9415",
   "metadata": {},
   "outputs": [
    {
     "name": "stderr",
     "output_type": "stream",
     "text": [
      "C:\\Users\\admin\\AppData\\Local\\Temp\\ipykernel_16188\\1820389901.py:1: FutureWarning: The default of observed=False is deprecated and will be changed to True in a future version of pandas. Pass observed=False to retain current behavior or observed=True to adopt the future default and silence this warning.\n",
      "  df[['SKU','Quantity','Sales_Amount']].groupby('SKU').sum().reset_index().sort_values('Sales_Amount')\n"
     ]
    },
    {
     "data": {
      "text/html": [
       "<div>\n",
       "<style scoped>\n",
       "    .dataframe tbody tr th:only-of-type {\n",
       "        vertical-align: middle;\n",
       "    }\n",
       "\n",
       "    .dataframe tbody tr th {\n",
       "        vertical-align: top;\n",
       "    }\n",
       "\n",
       "    .dataframe thead th {\n",
       "        text-align: right;\n",
       "    }\n",
       "</style>\n",
       "<table border=\"1\" class=\"dataframe\">\n",
       "  <thead>\n",
       "    <tr style=\"text-align: right;\">\n",
       "      <th></th>\n",
       "      <th>SKU</th>\n",
       "      <th>Quantity</th>\n",
       "      <th>Sales_Amount</th>\n",
       "    </tr>\n",
       "  </thead>\n",
       "  <tbody>\n",
       "    <tr>\n",
       "      <th>3410</th>\n",
       "      <td>N5SN2</td>\n",
       "      <td>1.0</td>\n",
       "      <td>0.03</td>\n",
       "    </tr>\n",
       "    <tr>\n",
       "      <th>440</th>\n",
       "      <td>2YFJL</td>\n",
       "      <td>1.0</td>\n",
       "      <td>0.04</td>\n",
       "    </tr>\n",
       "    <tr>\n",
       "      <th>2793</th>\n",
       "      <td>IZNPV</td>\n",
       "      <td>2.0</td>\n",
       "      <td>0.04</td>\n",
       "    </tr>\n",
       "    <tr>\n",
       "      <th>4514</th>\n",
       "      <td>UP0YH</td>\n",
       "      <td>3.0</td>\n",
       "      <td>0.06</td>\n",
       "    </tr>\n",
       "    <tr>\n",
       "      <th>664</th>\n",
       "      <td>4F50E</td>\n",
       "      <td>3.0</td>\n",
       "      <td>0.11</td>\n",
       "    </tr>\n",
       "    <tr>\n",
       "      <th>...</th>\n",
       "      <td>...</td>\n",
       "      <td>...</td>\n",
       "      <td>...</td>\n",
       "    </tr>\n",
       "    <tr>\n",
       "      <th>621</th>\n",
       "      <td>44RUE</td>\n",
       "      <td>218.0</td>\n",
       "      <td>8942.63</td>\n",
       "    </tr>\n",
       "    <tr>\n",
       "      <th>2071</th>\n",
       "      <td>DWJC4</td>\n",
       "      <td>823.0</td>\n",
       "      <td>10592.09</td>\n",
       "    </tr>\n",
       "    <tr>\n",
       "      <th>2752</th>\n",
       "      <td>IRQZ4</td>\n",
       "      <td>321.0</td>\n",
       "      <td>11681.63</td>\n",
       "    </tr>\n",
       "    <tr>\n",
       "      <th>3178</th>\n",
       "      <td>LJ26I</td>\n",
       "      <td>632.0</td>\n",
       "      <td>13571.45</td>\n",
       "    </tr>\n",
       "    <tr>\n",
       "      <th>606</th>\n",
       "      <td>3YDVF</td>\n",
       "      <td>926.0</td>\n",
       "      <td>29419.35</td>\n",
       "    </tr>\n",
       "  </tbody>\n",
       "</table>\n",
       "<p>5242 rows × 3 columns</p>\n",
       "</div>"
      ],
      "text/plain": [
       "        SKU  Quantity  Sales_Amount\n",
       "3410  N5SN2       1.0          0.03\n",
       "440   2YFJL       1.0          0.04\n",
       "2793  IZNPV       2.0          0.04\n",
       "4514  UP0YH       3.0          0.06\n",
       "664   4F50E       3.0          0.11\n",
       "...     ...       ...           ...\n",
       "621   44RUE     218.0       8942.63\n",
       "2071  DWJC4     823.0      10592.09\n",
       "2752  IRQZ4     321.0      11681.63\n",
       "3178  LJ26I     632.0      13571.45\n",
       "606   3YDVF     926.0      29419.35\n",
       "\n",
       "[5242 rows x 3 columns]"
      ]
     },
     "execution_count": 31,
     "metadata": {},
     "output_type": "execute_result"
    }
   ],
   "source": [
    "df[['SKU','Quantity','Sales_Amount']].groupby('SKU').sum().reset_index().sort_values('Sales_Amount')"
   ]
  },
  {
   "cell_type": "raw",
   "id": "6890f313-480c-4a73-ac99-5546ad225a0b",
   "metadata": {},
   "source": [
    "N5SN2 had the least total Sales Amount value of 0.03 while 3YDVF had the most value of 29419.35"
   ]
  },
  {
   "cell_type": "markdown",
   "id": "1f9b4616-58a7-4492-b6d1-134b33bc11f9",
   "metadata": {},
   "source": [
    "Customer Loyalty"
   ]
  },
  {
   "cell_type": "code",
   "execution_count": 32,
   "id": "1c0beb7b-7cb9-4596-a672-daa5c1d92a1e",
   "metadata": {},
   "outputs": [
    {
     "data": {
      "text/html": [
       "<div>\n",
       "<style scoped>\n",
       "    .dataframe tbody tr th:only-of-type {\n",
       "        vertical-align: middle;\n",
       "    }\n",
       "\n",
       "    .dataframe tbody tr th {\n",
       "        vertical-align: top;\n",
       "    }\n",
       "\n",
       "    .dataframe thead th {\n",
       "        text-align: right;\n",
       "    }\n",
       "</style>\n",
       "<table border=\"1\" class=\"dataframe\">\n",
       "  <thead>\n",
       "    <tr style=\"text-align: right;\">\n",
       "      <th></th>\n",
       "      <th>Transaction_Count</th>\n",
       "      <th>Customers</th>\n",
       "    </tr>\n",
       "  </thead>\n",
       "  <tbody>\n",
       "    <tr>\n",
       "      <th>0</th>\n",
       "      <td>1</td>\n",
       "      <td>11535</td>\n",
       "    </tr>\n",
       "    <tr>\n",
       "      <th>1</th>\n",
       "      <td>2</td>\n",
       "      <td>4200</td>\n",
       "    </tr>\n",
       "    <tr>\n",
       "      <th>2</th>\n",
       "      <td>3</td>\n",
       "      <td>2088</td>\n",
       "    </tr>\n",
       "    <tr>\n",
       "      <th>3</th>\n",
       "      <td>4</td>\n",
       "      <td>1282</td>\n",
       "    </tr>\n",
       "    <tr>\n",
       "      <th>4</th>\n",
       "      <td>5</td>\n",
       "      <td>831</td>\n",
       "    </tr>\n",
       "  </tbody>\n",
       "</table>\n",
       "</div>"
      ],
      "text/plain": [
       "   Transaction_Count  Customers\n",
       "0                  1      11535\n",
       "1                  2       4200\n",
       "2                  3       2088\n",
       "3                  4       1282\n",
       "4                  5        831"
      ]
     },
     "execution_count": 32,
     "metadata": {},
     "output_type": "execute_result"
    }
   ],
   "source": [
    "loyalty = (\n",
    "    df.loc[:,['Customer_ID','Transaction_ID']]\n",
    "    .drop_duplicates()\n",
    "    .groupby('Customer_ID')\n",
    "    .count()\n",
    "    .reset_index()\n",
    "    .sort_values('Transaction_ID')\n",
    "    .groupby('Transaction_ID')\n",
    "    .count()\n",
    "    .reset_index()\n",
    ")\n",
    "loyalty.columns = ['Transaction_Count','Customers']\n",
    "loyalty.head()"
   ]
  },
  {
   "cell_type": "code",
   "execution_count": 33,
   "id": "84f91b05-003a-48e0-a9e0-5227d8aabdb3",
   "metadata": {},
   "outputs": [
    {
     "data": {
      "text/html": [
       "<div>\n",
       "<style scoped>\n",
       "    .dataframe tbody tr th:only-of-type {\n",
       "        vertical-align: middle;\n",
       "    }\n",
       "\n",
       "    .dataframe tbody tr th {\n",
       "        vertical-align: top;\n",
       "    }\n",
       "\n",
       "    .dataframe thead th {\n",
       "        text-align: right;\n",
       "    }\n",
       "</style>\n",
       "<table border=\"1\" class=\"dataframe\">\n",
       "  <thead>\n",
       "    <tr style=\"text-align: right;\">\n",
       "      <th></th>\n",
       "      <th>Transaction_Count</th>\n",
       "      <th>Customers</th>\n",
       "    </tr>\n",
       "  </thead>\n",
       "  <tbody>\n",
       "    <tr>\n",
       "      <th>50</th>\n",
       "      <td>81</td>\n",
       "      <td>1</td>\n",
       "    </tr>\n",
       "    <tr>\n",
       "      <th>51</th>\n",
       "      <td>82</td>\n",
       "      <td>1</td>\n",
       "    </tr>\n",
       "    <tr>\n",
       "      <th>52</th>\n",
       "      <td>94</td>\n",
       "      <td>1</td>\n",
       "    </tr>\n",
       "    <tr>\n",
       "      <th>53</th>\n",
       "      <td>96</td>\n",
       "      <td>1</td>\n",
       "    </tr>\n",
       "    <tr>\n",
       "      <th>54</th>\n",
       "      <td>99</td>\n",
       "      <td>1</td>\n",
       "    </tr>\n",
       "  </tbody>\n",
       "</table>\n",
       "</div>"
      ],
      "text/plain": [
       "    Transaction_Count  Customers\n",
       "50                 81          1\n",
       "51                 82          1\n",
       "52                 94          1\n",
       "53                 96          1\n",
       "54                 99          1"
      ]
     },
     "execution_count": 33,
     "metadata": {},
     "output_type": "execute_result"
    }
   ],
   "source": [
    "loyalty.tail() "
   ]
  },
  {
   "cell_type": "raw",
   "id": "cc1549c5-49b8-4d0f-afeb-92d8edb118b3",
   "metadata": {},
   "source": [
    "11535 customers have only made 1 transaction\n",
    "Most transactions a single customer has made is 99"
   ]
  },
  {
   "cell_type": "markdown",
   "id": "f6747689-f973-473e-9203-bf8a4788fcf4",
   "metadata": {},
   "source": [
    "Most purchased SKU by Customer"
   ]
  },
  {
   "cell_type": "code",
   "execution_count": 34,
   "id": "add6cca2-395e-49e4-a8f3-b970a85306f4",
   "metadata": {},
   "outputs": [
    {
     "name": "stderr",
     "output_type": "stream",
     "text": [
      "C:\\Users\\admin\\AppData\\Local\\Temp\\ipykernel_16188\\2388671113.py:3: FutureWarning: The default of observed=False is deprecated and will be changed to True in a future version of pandas. Pass observed=False to retain current behavior or observed=True to adopt the future default and silence this warning.\n",
      "  .groupby(['Customer_ID','SKU'])\n"
     ]
    },
    {
     "data": {
      "text/html": [
       "<div>\n",
       "<style scoped>\n",
       "    .dataframe tbody tr th:only-of-type {\n",
       "        vertical-align: middle;\n",
       "    }\n",
       "\n",
       "    .dataframe tbody tr th {\n",
       "        vertical-align: top;\n",
       "    }\n",
       "\n",
       "    .dataframe thead th {\n",
       "        text-align: right;\n",
       "    }\n",
       "</style>\n",
       "<table border=\"1\" class=\"dataframe\">\n",
       "  <thead>\n",
       "    <tr style=\"text-align: right;\">\n",
       "      <th></th>\n",
       "      <th>Customer_ID</th>\n",
       "      <th>SKU</th>\n",
       "      <th>Quantity</th>\n",
       "    </tr>\n",
       "  </thead>\n",
       "  <tbody>\n",
       "    <tr>\n",
       "      <th>0</th>\n",
       "      <td>1</td>\n",
       "      <td>00GVC</td>\n",
       "      <td>0.0</td>\n",
       "    </tr>\n",
       "    <tr>\n",
       "      <th>79043086</th>\n",
       "      <td>15079</td>\n",
       "      <td>SN48W</td>\n",
       "      <td>0.0</td>\n",
       "    </tr>\n",
       "    <tr>\n",
       "      <th>79043085</th>\n",
       "      <td>15079</td>\n",
       "      <td>SN43A</td>\n",
       "      <td>0.0</td>\n",
       "    </tr>\n",
       "    <tr>\n",
       "      <th>79043084</th>\n",
       "      <td>15079</td>\n",
       "      <td>SN3ZJ</td>\n",
       "      <td>0.0</td>\n",
       "    </tr>\n",
       "    <tr>\n",
       "      <th>79043083</th>\n",
       "      <td>15079</td>\n",
       "      <td>SMGDT</td>\n",
       "      <td>0.0</td>\n",
       "    </tr>\n",
       "    <tr>\n",
       "      <th>...</th>\n",
       "      <td>...</td>\n",
       "      <td>...</td>\n",
       "      <td>...</td>\n",
       "    </tr>\n",
       "    <tr>\n",
       "      <th>88064660</th>\n",
       "      <td>16800</td>\n",
       "      <td>TD3DD</td>\n",
       "      <td>366.0</td>\n",
       "    </tr>\n",
       "    <tr>\n",
       "      <th>93068397</th>\n",
       "      <td>17755</td>\n",
       "      <td>CYRX4</td>\n",
       "      <td>368.0</td>\n",
       "    </tr>\n",
       "    <tr>\n",
       "      <th>91582679</th>\n",
       "      <td>17471</td>\n",
       "      <td>XT0W3</td>\n",
       "      <td>370.0</td>\n",
       "    </tr>\n",
       "    <tr>\n",
       "      <th>103741039</th>\n",
       "      <td>19791</td>\n",
       "      <td>CKDW0</td>\n",
       "      <td>400.0</td>\n",
       "    </tr>\n",
       "    <tr>\n",
       "      <th>82030186</th>\n",
       "      <td>15649</td>\n",
       "      <td>MXKDP</td>\n",
       "      <td>590.0</td>\n",
       "    </tr>\n",
       "  </tbody>\n",
       "</table>\n",
       "<p>118600250 rows × 3 columns</p>\n",
       "</div>"
      ],
      "text/plain": [
       "           Customer_ID    SKU  Quantity\n",
       "0                    1  00GVC       0.0\n",
       "79043086         15079  SN48W       0.0\n",
       "79043085         15079  SN43A       0.0\n",
       "79043084         15079  SN3ZJ       0.0\n",
       "79043083         15079  SMGDT       0.0\n",
       "...                ...    ...       ...\n",
       "88064660         16800  TD3DD     366.0\n",
       "93068397         17755  CYRX4     368.0\n",
       "91582679         17471  XT0W3     370.0\n",
       "103741039        19791  CKDW0     400.0\n",
       "82030186         15649  MXKDP     590.0\n",
       "\n",
       "[118600250 rows x 3 columns]"
      ]
     },
     "execution_count": 34,
     "metadata": {},
     "output_type": "execute_result"
    }
   ],
   "source": [
    "(\n",
    "    df[['Customer_ID','SKU','Quantity']]\n",
    "    .groupby(['Customer_ID','SKU'])\n",
    "    .sum()\n",
    "    .reset_index()\n",
    "    .sort_values('Quantity')\n",
    ")"
   ]
  },
  {
   "cell_type": "raw",
   "id": "d2eb5c38-f114-4a9a-a035-71d1f5e4a1ef",
   "metadata": {},
   "source": [
    "Least amount purchased for an SKU was 0.01 of RC425 by Customer 11158\n",
    "Most amount purchased for an SKU was 590 of MXKDP by Customer 15649"
   ]
  },
  {
   "cell_type": "markdown",
   "id": "cc092101-857c-4fe9-a95c-84bff14ef7b5",
   "metadata": {},
   "source": [
    "Most spent on a SKU by Customer"
   ]
  },
  {
   "cell_type": "code",
   "execution_count": 35,
   "id": "8f627966-9547-4f64-8d79-e9ecfdb87999",
   "metadata": {},
   "outputs": [
    {
     "name": "stderr",
     "output_type": "stream",
     "text": [
      "C:\\Users\\admin\\AppData\\Local\\Temp\\ipykernel_16188\\2847921185.py:3: FutureWarning: The default of observed=False is deprecated and will be changed to True in a future version of pandas. Pass observed=False to retain current behavior or observed=True to adopt the future default and silence this warning.\n",
      "  .groupby(['Customer_ID','SKU'])\n"
     ]
    },
    {
     "ename": "MemoryError",
     "evalue": "Unable to allocate 905. MiB for an array with shape (118600250, 1) and data type int64",
     "output_type": "error",
     "traceback": [
      "\u001b[1;31m---------------------------------------------------------------------------\u001b[0m",
      "\u001b[1;31mMemoryError\u001b[0m                               Traceback (most recent call last)",
      "Cell \u001b[1;32mIn[35], line 6\u001b[0m\n\u001b[0;32m      1\u001b[0m (\n\u001b[0;32m      2\u001b[0m     \u001b[43mdf\u001b[49m\u001b[43m[\u001b[49m\u001b[43m[\u001b[49m\u001b[38;5;124;43m'\u001b[39;49m\u001b[38;5;124;43mCustomer_ID\u001b[39;49m\u001b[38;5;124;43m'\u001b[39;49m\u001b[43m,\u001b[49m\u001b[38;5;124;43m'\u001b[39;49m\u001b[38;5;124;43mSKU\u001b[39;49m\u001b[38;5;124;43m'\u001b[39;49m\u001b[43m,\u001b[49m\u001b[38;5;124;43m'\u001b[39;49m\u001b[38;5;124;43mSales_Amount\u001b[39;49m\u001b[38;5;124;43m'\u001b[39;49m\u001b[43m]\u001b[49m\u001b[43m]\u001b[49m\n\u001b[0;32m      3\u001b[0m \u001b[43m    \u001b[49m\u001b[38;5;241;43m.\u001b[39;49m\u001b[43mgroupby\u001b[49m\u001b[43m(\u001b[49m\u001b[43m[\u001b[49m\u001b[38;5;124;43m'\u001b[39;49m\u001b[38;5;124;43mCustomer_ID\u001b[39;49m\u001b[38;5;124;43m'\u001b[39;49m\u001b[43m,\u001b[49m\u001b[38;5;124;43m'\u001b[39;49m\u001b[38;5;124;43mSKU\u001b[39;49m\u001b[38;5;124;43m'\u001b[39;49m\u001b[43m]\u001b[49m\u001b[43m)\u001b[49m\n\u001b[0;32m      4\u001b[0m \u001b[43m    \u001b[49m\u001b[38;5;241;43m.\u001b[39;49m\u001b[43msum\u001b[49m\u001b[43m(\u001b[49m\u001b[43m)\u001b[49m\n\u001b[0;32m      5\u001b[0m \u001b[43m    \u001b[49m\u001b[38;5;241;43m.\u001b[39;49m\u001b[43mreset_index\u001b[49m\u001b[43m(\u001b[49m\u001b[43m)\u001b[49m\n\u001b[1;32m----> 6\u001b[0m \u001b[43m    \u001b[49m\u001b[38;5;241;43m.\u001b[39;49m\u001b[43msort_values\u001b[49m\u001b[43m(\u001b[49m\u001b[38;5;124;43m'\u001b[39;49m\u001b[38;5;124;43mSales_Amount\u001b[39;49m\u001b[38;5;124;43m'\u001b[39;49m\u001b[43m)\u001b[49m\n\u001b[0;32m      7\u001b[0m ) \n",
      "File \u001b[1;32m~\\AppData\\Roaming\\Python\\Python312\\site-packages\\pandas\\core\\frame.py:7219\u001b[0m, in \u001b[0;36mDataFrame.sort_values\u001b[1;34m(self, by, axis, ascending, inplace, kind, na_position, ignore_index, key)\u001b[0m\n\u001b[0;32m   7216\u001b[0m     \u001b[38;5;28;01melse\u001b[39;00m:\n\u001b[0;32m   7217\u001b[0m         \u001b[38;5;28;01mreturn\u001b[39;00m result\n\u001b[1;32m-> 7219\u001b[0m new_data \u001b[38;5;241m=\u001b[39m \u001b[38;5;28;43mself\u001b[39;49m\u001b[38;5;241;43m.\u001b[39;49m\u001b[43m_mgr\u001b[49m\u001b[38;5;241;43m.\u001b[39;49m\u001b[43mtake\u001b[49m\u001b[43m(\u001b[49m\n\u001b[0;32m   7220\u001b[0m \u001b[43m    \u001b[49m\u001b[43mindexer\u001b[49m\u001b[43m,\u001b[49m\u001b[43m \u001b[49m\u001b[43maxis\u001b[49m\u001b[38;5;241;43m=\u001b[39;49m\u001b[38;5;28;43mself\u001b[39;49m\u001b[38;5;241;43m.\u001b[39;49m\u001b[43m_get_block_manager_axis\u001b[49m\u001b[43m(\u001b[49m\u001b[43maxis\u001b[49m\u001b[43m)\u001b[49m\u001b[43m,\u001b[49m\u001b[43m \u001b[49m\u001b[43mverify\u001b[49m\u001b[38;5;241;43m=\u001b[39;49m\u001b[38;5;28;43;01mFalse\u001b[39;49;00m\n\u001b[0;32m   7221\u001b[0m \u001b[43m\u001b[49m\u001b[43m)\u001b[49m\n\u001b[0;32m   7223\u001b[0m \u001b[38;5;28;01mif\u001b[39;00m ignore_index:\n\u001b[0;32m   7224\u001b[0m     new_data\u001b[38;5;241m.\u001b[39mset_axis(\n\u001b[0;32m   7225\u001b[0m         \u001b[38;5;28mself\u001b[39m\u001b[38;5;241m.\u001b[39m_get_block_manager_axis(axis), default_index(\u001b[38;5;28mlen\u001b[39m(indexer))\n\u001b[0;32m   7226\u001b[0m     )\n",
      "File \u001b[1;32m~\\AppData\\Roaming\\Python\\Python312\\site-packages\\pandas\\core\\internals\\managers.py:894\u001b[0m, in \u001b[0;36mBaseBlockManager.take\u001b[1;34m(self, indexer, axis, verify)\u001b[0m\n\u001b[0;32m    891\u001b[0m indexer \u001b[38;5;241m=\u001b[39m maybe_convert_indices(indexer, n, verify\u001b[38;5;241m=\u001b[39mverify)\n\u001b[0;32m    893\u001b[0m new_labels \u001b[38;5;241m=\u001b[39m \u001b[38;5;28mself\u001b[39m\u001b[38;5;241m.\u001b[39maxes[axis]\u001b[38;5;241m.\u001b[39mtake(indexer)\n\u001b[1;32m--> 894\u001b[0m \u001b[38;5;28;01mreturn\u001b[39;00m \u001b[38;5;28;43mself\u001b[39;49m\u001b[38;5;241;43m.\u001b[39;49m\u001b[43mreindex_indexer\u001b[49m\u001b[43m(\u001b[49m\n\u001b[0;32m    895\u001b[0m \u001b[43m    \u001b[49m\u001b[43mnew_axis\u001b[49m\u001b[38;5;241;43m=\u001b[39;49m\u001b[43mnew_labels\u001b[49m\u001b[43m,\u001b[49m\n\u001b[0;32m    896\u001b[0m \u001b[43m    \u001b[49m\u001b[43mindexer\u001b[49m\u001b[38;5;241;43m=\u001b[39;49m\u001b[43mindexer\u001b[49m\u001b[43m,\u001b[49m\n\u001b[0;32m    897\u001b[0m \u001b[43m    \u001b[49m\u001b[43maxis\u001b[49m\u001b[38;5;241;43m=\u001b[39;49m\u001b[43maxis\u001b[49m\u001b[43m,\u001b[49m\n\u001b[0;32m    898\u001b[0m \u001b[43m    \u001b[49m\u001b[43mallow_dups\u001b[49m\u001b[38;5;241;43m=\u001b[39;49m\u001b[38;5;28;43;01mTrue\u001b[39;49;00m\u001b[43m,\u001b[49m\n\u001b[0;32m    899\u001b[0m \u001b[43m    \u001b[49m\u001b[43mcopy\u001b[49m\u001b[38;5;241;43m=\u001b[39;49m\u001b[38;5;28;43;01mNone\u001b[39;49;00m\u001b[43m,\u001b[49m\n\u001b[0;32m    900\u001b[0m \u001b[43m\u001b[49m\u001b[43m)\u001b[49m\n",
      "File \u001b[1;32m~\\AppData\\Roaming\\Python\\Python312\\site-packages\\pandas\\core\\internals\\managers.py:688\u001b[0m, in \u001b[0;36mBaseBlockManager.reindex_indexer\u001b[1;34m(self, new_axis, indexer, axis, fill_value, allow_dups, copy, only_slice, use_na_proxy)\u001b[0m\n\u001b[0;32m    680\u001b[0m     new_blocks \u001b[38;5;241m=\u001b[39m \u001b[38;5;28mself\u001b[39m\u001b[38;5;241m.\u001b[39m_slice_take_blocks_ax0(\n\u001b[0;32m    681\u001b[0m         indexer,\n\u001b[0;32m    682\u001b[0m         fill_value\u001b[38;5;241m=\u001b[39mfill_value,\n\u001b[0;32m    683\u001b[0m         only_slice\u001b[38;5;241m=\u001b[39monly_slice,\n\u001b[0;32m    684\u001b[0m         use_na_proxy\u001b[38;5;241m=\u001b[39muse_na_proxy,\n\u001b[0;32m    685\u001b[0m     )\n\u001b[0;32m    686\u001b[0m \u001b[38;5;28;01melse\u001b[39;00m:\n\u001b[0;32m    687\u001b[0m     new_blocks \u001b[38;5;241m=\u001b[39m [\n\u001b[1;32m--> 688\u001b[0m         \u001b[43mblk\u001b[49m\u001b[38;5;241;43m.\u001b[39;49m\u001b[43mtake_nd\u001b[49m\u001b[43m(\u001b[49m\n\u001b[0;32m    689\u001b[0m \u001b[43m            \u001b[49m\u001b[43mindexer\u001b[49m\u001b[43m,\u001b[49m\n\u001b[0;32m    690\u001b[0m \u001b[43m            \u001b[49m\u001b[43maxis\u001b[49m\u001b[38;5;241;43m=\u001b[39;49m\u001b[38;5;241;43m1\u001b[39;49m\u001b[43m,\u001b[49m\n\u001b[0;32m    691\u001b[0m \u001b[43m            \u001b[49m\u001b[43mfill_value\u001b[49m\u001b[38;5;241;43m=\u001b[39;49m\u001b[43m(\u001b[49m\n\u001b[0;32m    692\u001b[0m \u001b[43m                \u001b[49m\u001b[43mfill_value\u001b[49m\u001b[43m \u001b[49m\u001b[38;5;28;43;01mif\u001b[39;49;00m\u001b[43m \u001b[49m\u001b[43mfill_value\u001b[49m\u001b[43m \u001b[49m\u001b[38;5;129;43;01mis\u001b[39;49;00m\u001b[43m \u001b[49m\u001b[38;5;129;43;01mnot\u001b[39;49;00m\u001b[43m \u001b[49m\u001b[38;5;28;43;01mNone\u001b[39;49;00m\u001b[43m \u001b[49m\u001b[38;5;28;43;01melse\u001b[39;49;00m\u001b[43m \u001b[49m\u001b[43mblk\u001b[49m\u001b[38;5;241;43m.\u001b[39;49m\u001b[43mfill_value\u001b[49m\n\u001b[0;32m    693\u001b[0m \u001b[43m            \u001b[49m\u001b[43m)\u001b[49m\u001b[43m,\u001b[49m\n\u001b[0;32m    694\u001b[0m \u001b[43m        \u001b[49m\u001b[43m)\u001b[49m\n\u001b[0;32m    695\u001b[0m         \u001b[38;5;28;01mfor\u001b[39;00m blk \u001b[38;5;129;01min\u001b[39;00m \u001b[38;5;28mself\u001b[39m\u001b[38;5;241m.\u001b[39mblocks\n\u001b[0;32m    696\u001b[0m     ]\n\u001b[0;32m    698\u001b[0m new_axes \u001b[38;5;241m=\u001b[39m \u001b[38;5;28mlist\u001b[39m(\u001b[38;5;28mself\u001b[39m\u001b[38;5;241m.\u001b[39maxes)\n\u001b[0;32m    699\u001b[0m new_axes[axis] \u001b[38;5;241m=\u001b[39m new_axis\n",
      "File \u001b[1;32m~\\AppData\\Roaming\\Python\\Python312\\site-packages\\pandas\\core\\internals\\blocks.py:1307\u001b[0m, in \u001b[0;36mBlock.take_nd\u001b[1;34m(self, indexer, axis, new_mgr_locs, fill_value)\u001b[0m\n\u001b[0;32m   1304\u001b[0m     allow_fill \u001b[38;5;241m=\u001b[39m \u001b[38;5;28;01mTrue\u001b[39;00m\n\u001b[0;32m   1306\u001b[0m \u001b[38;5;66;03m# Note: algos.take_nd has upcast logic similar to coerce_to_target_dtype\u001b[39;00m\n\u001b[1;32m-> 1307\u001b[0m new_values \u001b[38;5;241m=\u001b[39m \u001b[43malgos\u001b[49m\u001b[38;5;241;43m.\u001b[39;49m\u001b[43mtake_nd\u001b[49m\u001b[43m(\u001b[49m\n\u001b[0;32m   1308\u001b[0m \u001b[43m    \u001b[49m\u001b[43mvalues\u001b[49m\u001b[43m,\u001b[49m\u001b[43m \u001b[49m\u001b[43mindexer\u001b[49m\u001b[43m,\u001b[49m\u001b[43m \u001b[49m\u001b[43maxis\u001b[49m\u001b[38;5;241;43m=\u001b[39;49m\u001b[43maxis\u001b[49m\u001b[43m,\u001b[49m\u001b[43m \u001b[49m\u001b[43mallow_fill\u001b[49m\u001b[38;5;241;43m=\u001b[39;49m\u001b[43mallow_fill\u001b[49m\u001b[43m,\u001b[49m\u001b[43m \u001b[49m\u001b[43mfill_value\u001b[49m\u001b[38;5;241;43m=\u001b[39;49m\u001b[43mfill_value\u001b[49m\n\u001b[0;32m   1309\u001b[0m \u001b[43m\u001b[49m\u001b[43m)\u001b[49m\n\u001b[0;32m   1311\u001b[0m \u001b[38;5;66;03m# Called from three places in managers, all of which satisfy\u001b[39;00m\n\u001b[0;32m   1312\u001b[0m \u001b[38;5;66;03m#  these assertions\u001b[39;00m\n\u001b[0;32m   1313\u001b[0m \u001b[38;5;28;01mif\u001b[39;00m \u001b[38;5;28misinstance\u001b[39m(\u001b[38;5;28mself\u001b[39m, ExtensionBlock):\n\u001b[0;32m   1314\u001b[0m     \u001b[38;5;66;03m# NB: in this case, the 'axis' kwarg will be ignored in the\u001b[39;00m\n\u001b[0;32m   1315\u001b[0m     \u001b[38;5;66;03m#  algos.take_nd call above.\u001b[39;00m\n",
      "File \u001b[1;32m~\\AppData\\Roaming\\Python\\Python312\\site-packages\\pandas\\core\\array_algos\\take.py:117\u001b[0m, in \u001b[0;36mtake_nd\u001b[1;34m(arr, indexer, axis, fill_value, allow_fill)\u001b[0m\n\u001b[0;32m    114\u001b[0m     \u001b[38;5;28;01mreturn\u001b[39;00m arr\u001b[38;5;241m.\u001b[39mtake(indexer, fill_value\u001b[38;5;241m=\u001b[39mfill_value, allow_fill\u001b[38;5;241m=\u001b[39mallow_fill)\n\u001b[0;32m    116\u001b[0m arr \u001b[38;5;241m=\u001b[39m np\u001b[38;5;241m.\u001b[39masarray(arr)\n\u001b[1;32m--> 117\u001b[0m \u001b[38;5;28;01mreturn\u001b[39;00m \u001b[43m_take_nd_ndarray\u001b[49m\u001b[43m(\u001b[49m\u001b[43marr\u001b[49m\u001b[43m,\u001b[49m\u001b[43m \u001b[49m\u001b[43mindexer\u001b[49m\u001b[43m,\u001b[49m\u001b[43m \u001b[49m\u001b[43maxis\u001b[49m\u001b[43m,\u001b[49m\u001b[43m \u001b[49m\u001b[43mfill_value\u001b[49m\u001b[43m,\u001b[49m\u001b[43m \u001b[49m\u001b[43mallow_fill\u001b[49m\u001b[43m)\u001b[49m\n",
      "File \u001b[1;32m~\\AppData\\Roaming\\Python\\Python312\\site-packages\\pandas\\core\\array_algos\\take.py:157\u001b[0m, in \u001b[0;36m_take_nd_ndarray\u001b[1;34m(arr, indexer, axis, fill_value, allow_fill)\u001b[0m\n\u001b[0;32m    155\u001b[0m     out \u001b[38;5;241m=\u001b[39m np\u001b[38;5;241m.\u001b[39mempty(out_shape, dtype\u001b[38;5;241m=\u001b[39mdtype, order\u001b[38;5;241m=\u001b[39m\u001b[38;5;124m\"\u001b[39m\u001b[38;5;124mF\u001b[39m\u001b[38;5;124m\"\u001b[39m)\n\u001b[0;32m    156\u001b[0m \u001b[38;5;28;01melse\u001b[39;00m:\n\u001b[1;32m--> 157\u001b[0m     out \u001b[38;5;241m=\u001b[39m \u001b[43mnp\u001b[49m\u001b[38;5;241;43m.\u001b[39;49m\u001b[43mempty\u001b[49m\u001b[43m(\u001b[49m\u001b[43mout_shape\u001b[49m\u001b[43m,\u001b[49m\u001b[43m \u001b[49m\u001b[43mdtype\u001b[49m\u001b[38;5;241;43m=\u001b[39;49m\u001b[43mdtype\u001b[49m\u001b[43m)\u001b[49m\n\u001b[0;32m    159\u001b[0m func \u001b[38;5;241m=\u001b[39m _get_take_nd_function(\n\u001b[0;32m    160\u001b[0m     arr\u001b[38;5;241m.\u001b[39mndim, arr\u001b[38;5;241m.\u001b[39mdtype, out\u001b[38;5;241m.\u001b[39mdtype, axis\u001b[38;5;241m=\u001b[39maxis, mask_info\u001b[38;5;241m=\u001b[39mmask_info\n\u001b[0;32m    161\u001b[0m )\n\u001b[0;32m    162\u001b[0m func(arr, indexer, out, fill_value)\n",
      "\u001b[1;31mMemoryError\u001b[0m: Unable to allocate 905. MiB for an array with shape (118600250, 1) and data type int64"
     ]
    }
   ],
   "source": [
    "(\n",
    "    df[['Customer_ID','SKU','Sales_Amount']]\n",
    "    .groupby(['Customer_ID','SKU'])\n",
    "    .sum()\n",
    "    .reset_index()\n",
    "    .sort_values('Sales_Amount')\n",
    ") "
   ]
  },
  {
   "cell_type": "raw",
   "id": "51f91073-9e92-442f-bafd-303a1acf7c9e",
   "metadata": {},
   "source": [
    "Least amount spent on an SKU was 0.02\n",
    "Most amount spent on an SKU was 1716.87 on XT0W3 by Customer 17471"
   ]
  },
  {
   "cell_type": "markdown",
   "id": "ded6632f-1049-460c-98f0-4b38830962db",
   "metadata": {},
   "source": [
    "Unit Price for SKU"
   ]
  },
  {
   "cell_type": "code",
   "execution_count": null,
   "id": "d6b964df-6ae1-45df-ade3-e61b5d84e1f8",
   "metadata": {},
   "outputs": [],
   "source": [
    "df['Unit_Price'] = df['Sales_Amount'] / df['Quantity'] \n",
    "by_sku = df[['SKU','Unit_Price']].groupby('SKU')\n",
    "by_sku.min().reset_index().sort_values('Unit_Price').head()"
   ]
  },
  {
   "cell_type": "code",
   "execution_count": null,
   "id": "e8c3689a-ae97-4b02-aa6e-78d3417bc800",
   "metadata": {},
   "outputs": [],
   "source": [
    "by_sku.max().reset_index().sort_values('Unit_Price').tail()"
   ]
  },
  {
   "cell_type": "raw",
   "id": "022131a1-bee1-4188-b75d-2ee7a96f6a3a",
   "metadata": {},
   "source": [
    "Minimum unit price paid for an SKU was 0.015 for GWGFZ, CZUZX, MLAK3, and 72CDS\n",
    "Maximum unit price paid for an SKU was 693.80 for D0APX followed by 585 for Z8IA4"
   ]
  },
  {
   "cell_type": "markdown",
   "id": "579df604-fa68-4cc0-9fb7-484505ca9d9d",
   "metadata": {},
   "source": [
    "SKU counts in SKU Categories"
   ]
  },
  {
   "cell_type": "code",
   "execution_count": null,
   "id": "3b0762e3-32cb-443b-8f40-e47b26b6b373",
   "metadata": {},
   "outputs": [],
   "source": [
    "(\n",
    "    df[['SKU_Category','SKU']]\n",
    "    .drop_duplicates()\n",
    "    .groupby('SKU_Category')\n",
    "    .count()\n",
    "    .reset_index()\n",
    "    .sort_values('SKU')\n",
    ")"
   ]
  },
  {
   "cell_type": "raw",
   "id": "04f4190c-8b28-46ba-b45d-5d65d8608a1f",
   "metadata": {},
   "source": [
    "IW1, ORW, OTK, H4E, and QFK are among the categories with only 1 SKU\n",
    "LPF has the most number of SKUs with 265 followed by Q4N with 123 SKUs"
   ]
  }
 ],
 "metadata": {
  "kernelspec": {
   "display_name": "Python 3 (ipykernel)",
   "language": "python",
   "name": "python3"
  },
  "language_info": {
   "codemirror_mode": {
    "name": "ipython",
    "version": 3
   },
   "file_extension": ".py",
   "mimetype": "text/x-python",
   "name": "python",
   "nbconvert_exporter": "python",
   "pygments_lexer": "ipython3",
   "version": "3.12.3"
  }
 },
 "nbformat": 4,
 "nbformat_minor": 5
}
